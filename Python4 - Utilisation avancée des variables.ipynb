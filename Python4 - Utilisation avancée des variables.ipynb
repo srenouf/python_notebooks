{
 "cells": [
  {
   "cell_type": "markdown",
   "metadata": {},
   "source": [
    "# Cours M. Lecluse  - Maths / Informatique\n",
    "\n",
    "Complétez le document ci-dessous. Vous validerez les cellules au fur-à-mesure en prenant le temps de lire attentivement les consignes.\n",
    "\n",
    "Certaines cellules contiennent ce texte :\n",
    "    # YOUR CODE HERE\n",
    "    raise NotImplementedError()\n",
    "Vous **remplacerez** ce contenu par votre propre programme ou fonction afin de répondre au problème posé. Ce code est conçu pour provoquer une erreur si vous ne traitez pas la question.\n",
    "\n",
    "Une fois le document complété, n'oubliez pas de cliquer sur le bouton **submit** dans l'onglet *assignments*.\n",
    "\n",
    "Ce *notebook* peut être considéré comme un cahier interactif. N'hésitez pas à vous l'approprier en ajoutant des cellules de texte ou de code selon vos besoins !"
   ]
  },
  {
   "cell_type": "markdown",
   "metadata": {
    "deletable": false,
    "editable": false,
    "nbgrader": {
     "checksum": "e3f4b1d12be75ea41921f85d3932c856",
     "grade": false,
     "grade_id": "cell-2be33ccdf81bc8b3",
     "locked": true,
     "schema_version": 1,
     "solution": false
    }
   },
   "source": [
    "# Utilisation avancée des variables"
   ]
  },
  {
   "cell_type": "markdown",
   "metadata": {
    "deletable": false,
    "editable": false,
    "nbgrader": {
     "checksum": "572065d041292aae4a0f9b78177d9b1a",
     "grade": false,
     "grade_id": "cell-590c59f178f130d2",
     "locked": true,
     "schema_version": 1,
     "solution": false
    }
   },
   "source": [
    "En Python, les variables sont crées automatiquement à leur première utilisation. Pour créer une variable, il\n",
    "suffit donc de l’utiliser en l’affectant une première fois, c’est à dire d’écrire *nom_variable=valeur_de_la_variable*.\n",
    "Une variable peut prendre n’importe quel nom, tant qu’elle respecte les règles suivantes :\n",
    "- Son nom commence de préférence par une lettre minuscule (a à z) ou majuscule (A à Z), ou bien par le\n",
    "caractère souligné (_)\n",
    "- Pour la suite de son nom, on peut utiliser les lettres minuscules et majuscule, le souligné et un chiffre (0\n",
    "à 9)\n",
    "- Il faut éviter de préférence d’utiliser un mot réservé (commande Python)\n",
    "\n",
    "Avant de commencer, validez la cellule suivante qui nous permettra d'accéder à un outil très pratique : **Python tutor**."
   ]
  },
  {
   "cell_type": "code",
   "execution_count": null,
   "metadata": {
    "deletable": false,
    "editable": false,
    "nbgrader": {
     "checksum": "609509e9b3d2e2170e081dbc880ca4d7",
     "grade": false,
     "grade_id": "cell-1439af18b2bf0b04",
     "locked": true,
     "schema_version": 1,
     "solution": false
    }
   },
   "outputs": [],
   "source": [
    "from metakernel import register_ipython_magics\n",
    "register_ipython_magics()"
   ]
  },
  {
   "cell_type": "markdown",
   "metadata": {
    "deletable": false,
    "editable": false,
    "nbgrader": {
     "checksum": "7fd10e9bfbec6e1452291fa84b769784",
     "grade": false,
     "grade_id": "cell-45d08ea438bf207a",
     "locked": true,
     "schema_version": 1,
     "solution": false
    }
   },
   "source": [
    "## Affectations - rappels"
   ]
  },
  {
   "cell_type": "code",
   "execution_count": null,
   "metadata": {
    "deletable": false,
    "editable": false,
    "nbgrader": {
     "checksum": "ade500e464435cade29427c749ccc252",
     "grade": false,
     "grade_id": "cell-6581147c075ee3de",
     "locked": true,
     "schema_version": 1,
     "solution": false
    }
   },
   "outputs": [],
   "source": [
    "a=7 # Affectation simple\n",
    "x=y=7 # Affectation multiple\n",
    "z,t=\"toto\",8 # Affectation en parallèle"
   ]
  },
  {
   "cell_type": "code",
   "execution_count": null,
   "metadata": {
    "deletable": false,
    "editable": false,
    "nbgrader": {
     "checksum": "c5a78c8d0f995f50faaf3849f5e9417c",
     "grade": false,
     "grade_id": "cell-2cec01259e464c83",
     "locked": true,
     "schema_version": 1,
     "solution": false
    }
   },
   "outputs": [],
   "source": [
    "print(a)\n",
    "print(x,y)\n",
    "print(z,t)"
   ]
  },
  {
   "cell_type": "markdown",
   "metadata": {
    "deletable": false,
    "editable": false,
    "nbgrader": {
     "checksum": "d1daec0e7808931ca95adfc81196d065",
     "grade": false,
     "grade_id": "cell-37c89ec59a227fc6",
     "locked": true,
     "schema_version": 1,
     "solution": false
    }
   },
   "source": [
    "## Variables locales - Variables globales"
   ]
  },
  {
   "cell_type": "markdown",
   "metadata": {
    "deletable": false,
    "editable": false,
    "nbgrader": {
     "checksum": "c80e082f5f83c28e07d3a65d982227af",
     "grade": false,
     "grade_id": "cell-50516e078c9ef1dd",
     "locked": true,
     "schema_version": 1,
     "solution": false
    }
   },
   "source": [
    "### Variables locales"
   ]
  },
  {
   "cell_type": "markdown",
   "metadata": {
    "deletable": false,
    "editable": false,
    "nbgrader": {
     "checksum": "fac79bfbd44d160d20c0103de6b06d66",
     "grade": false,
     "grade_id": "cell-ad9718af7df28905",
     "locked": true,
     "schema_version": 1,
     "solution": false
    }
   },
   "source": [
    "Une *variable locale* est une variable définie à l’**intérieur d’une fonction**. Elle n’est utilisable qu’à l’intérieur\n",
    "de celle-ci, le reste du programme **ignorant totalement** son existence."
   ]
  },
  {
   "cell_type": "markdown",
   "metadata": {
    "deletable": false,
    "editable": false,
    "nbgrader": {
     "checksum": "119c29e5aab251e92e1f987b4363682d",
     "grade": false,
     "grade_id": "cell-316efc504ae6c5df",
     "locked": true,
     "schema_version": 1,
     "solution": false
    }
   },
   "source": [
    "Cet exemple illustre le mécanisme de variable locale et de passage de paramètre. La variable locale **varLoc** est\n",
    "utilisable à l’intérieur de la fonction *maFonction* et remplit son rôle."
   ]
  },
  {
   "cell_type": "code",
   "execution_count": null,
   "metadata": {
    "deletable": false,
    "editable": false,
    "nbgrader": {
     "checksum": "3cbc2e11ee10aa46c910095377fcb577",
     "grade": false,
     "grade_id": "cell-e927a599546ff9ec",
     "locked": true,
     "schema_version": 1,
     "solution": false
    }
   },
   "outputs": [],
   "source": [
    "def maFonction(param):\n",
    "    varLoc=4\n",
    "    varLoc=varLoc+param\n",
    "    print(varLoc)\n",
    "\n",
    "maFonction(5)"
   ]
  },
  {
   "cell_type": "markdown",
   "metadata": {
    "deletable": false,
    "editable": false,
    "nbgrader": {
     "checksum": "11d943fda6c298dd3710b2696ac57ed8",
     "grade": false,
     "grade_id": "cell-21d173e1f1461b04",
     "locked": true,
     "schema_version": 1,
     "solution": false
    }
   },
   "source": [
    "Néanmoins, cette variable n'a plus d'existance à l'extérieur de la fonction.\n",
    "Exécutez le code suivant et trouver dans le message d'erreur ce qui prouve que la variable locale est détruite en sortant de la fonction."
   ]
  },
  {
   "cell_type": "code",
   "execution_count": null,
   "metadata": {
    "deletable": false,
    "editable": false,
    "nbgrader": {
     "checksum": "2934e2210374f6e35ca5931879416de3",
     "grade": false,
     "grade_id": "cell-fa6cd5ef74d1c29c",
     "locked": true,
     "schema_version": 1,
     "solution": false
    }
   },
   "outputs": [],
   "source": [
    "maFonction(3)\n",
    "print(varLoc)"
   ]
  },
  {
   "cell_type": "markdown",
   "metadata": {
    "deletable": false,
    "editable": false,
    "nbgrader": {
     "checksum": "16d74d262628b87c99f3814b04bced58",
     "grade": false,
     "grade_id": "cell-1e5b51042e520a9a",
     "locked": true,
     "schema_version": 1,
     "solution": false
    }
   },
   "source": [
    "## Variables globales"
   ]
  },
  {
   "cell_type": "markdown",
   "metadata": {
    "deletable": false,
    "editable": false,
    "nbgrader": {
     "checksum": "66479283279b87effbc18f170333b03e",
     "grade": false,
     "grade_id": "cell-dcaa630c175e2d3d",
     "locked": true,
     "schema_version": 1,
     "solution": false
    }
   },
   "source": [
    "Il existe des cas ou on souhaite qu'une variable soit persistante tout au long de la vie du programme, quelque soit la fonction qui l'utilise. C'est ce qu'on appelle une *variable globale*.\n",
    "\n",
    "Il faut être assez prudent dans l'utilisation de ces variables : une trop grande quantité de variables globales rend le programme difficile à lire et à maintenir. C'est une technique de programmation peu élégante. \n",
    "\n",
    "On préfère en général avoir recours à des **objets** (voir le classeur sur la programmation orientée objet)."
   ]
  },
  {
   "cell_type": "markdown",
   "metadata": {
    "deletable": false,
    "editable": false,
    "nbgrader": {
     "checksum": "d28223fa3f113ae9f283629b0025290c",
     "grade": false,
     "grade_id": "cell-352c3cdd0e132d7d",
     "locked": true,
     "schema_version": 1,
     "solution": false
    }
   },
   "source": [
    "Une *variable globale* est définie dans le programme principal (souvent au début dans la section d’initialisa-\n",
    "tion). Elle est par défaut **accessible en lecture seule dans l’ensemble des fonctions** définies dans le programme :"
   ]
  },
  {
   "cell_type": "code",
   "execution_count": null,
   "metadata": {
    "deletable": false,
    "editable": false,
    "nbgrader": {
     "checksum": "145e734527c8f6b3484a73474e5eefc2",
     "grade": false,
     "grade_id": "cell-641fa59abc41d5c1",
     "locked": true,
     "schema_version": 1,
     "solution": false
    }
   },
   "outputs": [],
   "source": [
    "varGlo=5\n",
    "def maFonction1():\n",
    "    print (\"varGlo dans fonction1\",varGlo)\n",
    "\n",
    "def maFonction2():\n",
    "    varGlo=4\n",
    "    print (\"varGlo dans fonction2\",varGlo)\n",
    "\n",
    "print(\"Debut programme principal\",varGlo)\n",
    "maFonction1()\n",
    "maFonction2()\n",
    "print(\"Fin programme principal\",varGlo)"
   ]
  },
  {
   "cell_type": "markdown",
   "metadata": {
    "deletable": false,
    "editable": false,
    "nbgrader": {
     "checksum": "fd2fddaf31adb7610e7efc56b63742a7",
     "grade": false,
     "grade_id": "cell-12f32e56f3ff8cf2",
     "locked": true,
     "schema_version": 1,
     "solution": false
    }
   },
   "source": [
    "Afin de bien comprendre ce qui s'est passé, revoyons l'exécution de cette cellule au ralenti :"
   ]
  },
  {
   "cell_type": "code",
   "execution_count": null,
   "metadata": {
    "deletable": false,
    "editable": false,
    "nbgrader": {
     "checksum": "cecf190e758a3fb04f6a955212549cf6",
     "grade": false,
     "grade_id": "cell-5dbf2deb8fdb401e",
     "locked": true,
     "schema_version": 1,
     "solution": false
    }
   },
   "outputs": [],
   "source": [
    "%%tutor\n",
    "varGlo=5\n",
    "def maFonction1():\n",
    "    print (\"varGlo dans fonction1\",varGlo)\n",
    "\n",
    "def maFonction2():\n",
    "    varGlo=4\n",
    "    print (\"varGlo dans fonction2\",varGlo)\n",
    "\n",
    "print(\"Debut programme principal\",varGlo)\n",
    "maFonction1()\n",
    "maFonction2()\n",
    "print(\"Fin programme principal\",varGlo)"
   ]
  },
  {
   "cell_type": "markdown",
   "metadata": {
    "deletable": false,
    "editable": false,
    "nbgrader": {
     "checksum": "56d022a8586c8f3edeb96906dd697130",
     "grade": false,
     "grade_id": "cell-1a2aaec81bb8ce66",
     "locked": true,
     "schema_version": 1,
     "solution": false
    }
   },
   "source": [
    "Vous constaterez dans l'exemple ci-dessus que\n",
    "-*varGlo* est **accessible en lecture** dans *maFonction1*\n",
    "-*varGlo* **a pu être modifiée** dans *maFonction2*\n",
    "-les modifications de *varGlo* dans *maFonction2* n'ont **pas été répercutées** dans le programme principal !\n",
    "\n",
    "On peut avoir l'impression en lisant le code que *varGlo* prend la valeur 4 dès que *maFonction2* est exécutée. En réalité, maFonction2 va créer une variable locale de même nom que varGlo qui n'aura d'existance qu'à l'intérieur de la fonction. La variable globale varGlo créée au début du programme, elle, est **inchangée**.\n",
    "\n",
    "Voila pourquoi il faut être prudent quant à l'utilisation des variables globales."
   ]
  },
  {
   "cell_type": "markdown",
   "metadata": {
    "deletable": false,
    "editable": false,
    "nbgrader": {
     "checksum": "78b66359f3fa4b6887bd3cdc2e870ef3",
     "grade": false,
     "grade_id": "cell-8570ce0e417356aa",
     "locked": true,
     "schema_version": 1,
     "solution": false
    }
   },
   "source": [
    "### Modifier une variable globale dans une fonction"
   ]
  },
  {
   "cell_type": "markdown",
   "metadata": {
    "deletable": false,
    "editable": false,
    "nbgrader": {
     "checksum": "c2d3a294509056fe227f1cc0cf6b0894",
     "grade": false,
     "grade_id": "cell-99050d018bbaee0a",
     "locked": true,
     "schema_version": 1,
     "solution": false
    }
   },
   "source": [
    "Il est bien sûr possible de modifier le contenu d'une variable globale à l'intérieur d'une fonction. Pour ce faire, on utilisera la commande python **global** pour indiquer à la fonction  les variables globales accessibles en modification.\n",
    "\n",
    "Etudiez l'exemple suivant :"
   ]
  },
  {
   "cell_type": "code",
   "execution_count": null,
   "metadata": {
    "deletable": false,
    "editable": false,
    "nbgrader": {
     "checksum": "11c780a9230f66e008a7a0b58a780908",
     "grade": false,
     "grade_id": "cell-12d40dcee486c32b",
     "locked": true,
     "schema_version": 1,
     "solution": false
    }
   },
   "outputs": [],
   "source": [
    "varGlo=5\n",
    "\n",
    "def maFonction3():\n",
    "    global varGlo\n",
    "    varGlo=4\n",
    "\n",
    "maFonction3()"
   ]
  },
  {
   "cell_type": "code",
   "execution_count": null,
   "metadata": {},
   "outputs": [],
   "source": [
    "## Que vaut varGlo après appel de maFonction3 ?\n",
    "## indiquez votre réponse dans la variable réponse\n",
    "\n",
    "reponse = ..."
   ]
  },
  {
   "cell_type": "code",
   "execution_count": null,
   "metadata": {
    "deletable": false,
    "editable": false,
    "nbgrader": {
     "checksum": "bba720dc35e7d86e6eab90aa2d29845b",
     "grade": true,
     "grade_id": "cell-e2c208af21384b2e",
     "locked": true,
     "points": 1,
     "schema_version": 1,
     "solution": false
    }
   },
   "outputs": [],
   "source": [
    "assert varGlo == reponse"
   ]
  },
  {
   "cell_type": "markdown",
   "metadata": {
    "deletable": false,
    "editable": false,
    "nbgrader": {
     "checksum": "f513b2b2c2fba620d07ec60e8b9f4101",
     "grade": false,
     "grade_id": "cell-8d4141f7e6682d78",
     "locked": true,
     "schema_version": 1,
     "solution": false
    }
   },
   "source": [
    "## Exercice\n",
    "- Créer une variable *globale* nbCoups initialisée à 0\n",
    "- Ecrire une fonction **trouve**\n",
    "    - prenant en paramètre un entier n\n",
    "    - créant une variable locale *inc* qui est un entier aléatoire entre 1 et 10\n",
    "    - renvoyant True si $n$ est égal à *inc*, False sinon\n",
    "    - le nombre de coups devra être incrémenté à chaque appel de la fonction\n",
    "\n",
    "Combien de coups vous a t-il fallu pour tomber sur le nombre choisi pr l'ordinateur ?"
   ]
  },
  {
   "cell_type": "code",
   "execution_count": null,
   "metadata": {
    "deletable": false,
    "nbgrader": {
     "checksum": "7f7ad107e842a06637a0cfa220ae0da6",
     "grade": false,
     "grade_id": "cell-98edacd40c262627",
     "locked": false,
     "schema_version": 1,
     "solution": true
    }
   },
   "outputs": [],
   "source": [
    "from random import randint\n",
    "# YOUR CODE HERE\n",
    "raise NotImplementedError()"
   ]
  },
  {
   "cell_type": "code",
   "execution_count": null,
   "metadata": {},
   "outputs": [],
   "source": [
    "trouve(8)"
   ]
  },
  {
   "cell_type": "code",
   "execution_count": null,
   "metadata": {
    "deletable": false,
    "editable": false,
    "nbgrader": {
     "checksum": "eabb571aef19e957eb1d7b7a7d4ded0d",
     "grade": false,
     "grade_id": "cell-56122e280068b929",
     "locked": true,
     "schema_version": 1,
     "solution": false
    }
   },
   "outputs": [],
   "source": [
    "nbCoups"
   ]
  },
  {
   "cell_type": "code",
   "execution_count": null,
   "metadata": {
    "deletable": false,
    "editable": false,
    "nbgrader": {
     "checksum": "3eca4b2a7b081745092cc4a97f2b9cc9",
     "grade": true,
     "grade_id": "cell-477fdc1ada4f3e09",
     "locked": true,
     "points": 1,
     "schema_version": 1,
     "solution": false
    }
   },
   "outputs": [],
   "source": [
    "nbCoups = 0\n",
    "trouve(4)\n",
    "assert nbCoups == 1"
   ]
  },
  {
   "cell_type": "markdown",
   "metadata": {
    "deletable": false,
    "editable": false,
    "nbgrader": {
     "checksum": "2cb30c24ab418094ed223a51c4c1f0ed",
     "grade": false,
     "grade_id": "cell-06cfd8ff895ebaa1",
     "locked": true,
     "schema_version": 1,
     "solution": false
    }
   },
   "source": [
    "## Les références partagées : le cas des listes"
   ]
  },
  {
   "cell_type": "markdown",
   "metadata": {
    "deletable": false,
    "editable": false,
    "nbgrader": {
     "checksum": "28e1fd0006ab77f899ec3edf7d3f3a78",
     "grade": false,
     "grade_id": "cell-adc1a99487c2a82f",
     "locked": true,
     "schema_version": 1,
     "solution": false
    }
   },
   "source": [
    "Les listes Python sont des **références**, c’est à dire que écrire a = [(1,0,0),(0,1,0),(0,0,1)] ne\n",
    "signifie pas que a *vaut* [(1,0,0),(0,1,0),(0,0,1)] mais que a *référence* la liste [(1,0,0),(0,1,0),(0,0,1)], c'est à dire contient un *pointeur vers la zone mémoire qui contient cette liste*.\n",
    "\n",
    "La subtilité est que la commande *b = a* ne va pas duppliquer le contenu de la liste mais **recopier une référence sur cette même liste**. Si on modifie b, alors a **sera également modifié**. \n",
    "\n",
    "L’examen des deux exemples suivant illustre ce concept."
   ]
  },
  {
   "cell_type": "code",
   "execution_count": null,
   "metadata": {
    "deletable": false,
    "editable": false,
    "nbgrader": {
     "checksum": "d6ed6e7f1d783bd4d3501d3788b7c6a8",
     "grade": false,
     "grade_id": "cell-bdbfdc1c5f9e60df",
     "locked": true,
     "schema_version": 1,
     "solution": false
    }
   },
   "outputs": [],
   "source": [
    "a = [(1,0,0), (0,1,0), (0,0,1)]\n",
    "print (\"a=\",a)\n",
    "\n",
    "b = a # On copie la référence, pas la liste\n",
    "\n",
    "b[0] = (1,1,0) # On modifie b\n",
    "print(\"b=\",b)\n",
    "\n",
    "print(\"a=\",a) # Ouuups !!!"
   ]
  },
  {
   "cell_type": "markdown",
   "metadata": {
    "deletable": false,
    "editable": false,
    "nbgrader": {
     "checksum": "954827d1639e1e8377b1fbd229db1a1e",
     "grade": false,
     "grade_id": "cell-9b0025ad51bad39e",
     "locked": true,
     "schema_version": 1,
     "solution": false
    }
   },
   "source": [
    "Dans l'exemple ci-dessus, la modification de $b$ entraîne sans qu'on s'y attende la modification de $a$ !!\n",
    "\n",
    "Ce n'est pas un bug de Python, c'est normal quand on sait comment Python gère la mémoire.\n",
    "Revoyons cette séquence au ralenti en validant la cellule suivante:"
   ]
  },
  {
   "cell_type": "code",
   "execution_count": null,
   "metadata": {
    "deletable": false,
    "editable": false,
    "nbgrader": {
     "checksum": "46a41c66f5bcf702d7b69feb827f00c8",
     "grade": false,
     "grade_id": "cell-67fc4e5309a79d0d",
     "locked": true,
     "schema_version": 1,
     "solution": false
    }
   },
   "outputs": [],
   "source": [
    "%%tutor\n",
    "a = [(1,0,0), (0,1,0), (0,0,1)]\n",
    "print (\"a=\",a)\n",
    "\n",
    "b = a # On copie la référence, pas la liste\n",
    "\n",
    "b[0] = (1,1,0) # On modifie b\n",
    "print(\"b=\",b)\n",
    "\n",
    "print(\"a=\",a) # Ouuups !!!"
   ]
  },
  {
   "cell_type": "markdown",
   "metadata": {
    "deletable": false,
    "editable": false,
    "nbgrader": {
     "checksum": "10be871d54c73a02e5dbb032724726f6",
     "grade": false,
     "grade_id": "cell-a96012c9bafd8d34",
     "locked": true,
     "schema_version": 1,
     "solution": false
    }
   },
   "source": [
    "Vous le voyez, l'outil **python tutor** est très pratique pour observer dans le détail comment Python gère la mémoire. N'hésitez pas par la suite à l'utiliser en ajoutant **%%tutor** en première ligne de cellule.\n",
    "\n",
    "Pour suivre l'utilisation de la mémoire, on peut aussi utiliser la commande **id** qui permet d'obtenir l'adresse mémoire de l'objet référencé par une variable :"
   ]
  },
  {
   "cell_type": "code",
   "execution_count": null,
   "metadata": {
    "deletable": false,
    "editable": false,
    "nbgrader": {
     "checksum": "55d76a95da180ce66a44c57b8c62a192",
     "grade": false,
     "grade_id": "cell-ddb17c40f02b46f8",
     "locked": true,
     "schema_version": 1,
     "solution": false
    }
   },
   "outputs": [],
   "source": [
    "print(\"adresse de a\",id(a))\n",
    "print(\"adresse de b\",id(b))"
   ]
  },
  {
   "cell_type": "markdown",
   "metadata": {
    "deletable": false,
    "editable": false,
    "nbgrader": {
     "checksum": "b261b8c9a08268939ffc91ac8b69f9a7",
     "grade": false,
     "grade_id": "cell-bc4e74ceb798ac66",
     "locked": true,
     "schema_version": 1,
     "solution": false
    }
   },
   "source": [
    "Tout s'explique !! *a* et *b* son un seul et même objet !\n",
    "\n",
    "Mais comment faire pour obtenir dans *b* une liste identique mais indépendante de *a* ?"
   ]
  },
  {
   "cell_type": "code",
   "execution_count": null,
   "metadata": {
    "deletable": false,
    "editable": false,
    "nbgrader": {
     "checksum": "cc9f94a4ed64a918e312c92b3e155850",
     "grade": false,
     "grade_id": "cell-c461f02d1bda86b8",
     "locked": true,
     "schema_version": 1,
     "solution": false
    }
   },
   "outputs": [],
   "source": [
    "a = [(1,0,0), (0,1,0),(0,0,1)]\n",
    "b = [(1,0,0), (0,1,0),(0,0,1)]\n",
    "print(\"adresse de a\",id(a))\n",
    "print(\"adresse de b\",id(b))"
   ]
  },
  {
   "cell_type": "markdown",
   "metadata": {
    "deletable": false,
    "editable": false,
    "nbgrader": {
     "checksum": "f8cd3118e05ab25007696fb4e70bb275",
     "grade": false,
     "grade_id": "cell-01f0b4b130701aed",
     "locked": true,
     "schema_version": 1,
     "solution": false
    }
   },
   "source": [
    "ah ! les adresses de *a* et de *b* sont différentes. Si je modifie *b*, *a* ne devrait pas être impacté. Vérifions le de suite !"
   ]
  },
  {
   "cell_type": "code",
   "execution_count": null,
   "metadata": {
    "deletable": false,
    "editable": false,
    "nbgrader": {
     "checksum": "f06ab3d09f6a1006c8e6ff663112bde4",
     "grade": false,
     "grade_id": "cell-ca90a50167446bd7",
     "locked": true,
     "schema_version": 1,
     "solution": false
    }
   },
   "outputs": [],
   "source": [
    "b[0] = (1,1,0) # On modifie b\n",
    "print(\"b=\",b)\n",
    "\n",
    "print(\"a=\",a) # Ouuuf !!!"
   ]
  },
  {
   "cell_type": "markdown",
   "metadata": {
    "deletable": false,
    "editable": false,
    "nbgrader": {
     "checksum": "1cd8cde8df047395bfbf9fdad336a7ef",
     "grade": false,
     "grade_id": "cell-13d498941cc95c2c",
     "locked": true,
     "schema_version": 1,
     "solution": false
    }
   },
   "source": [
    "On devra donc être prudent sur l’utilisation d’une affectation du type b=a surtout lorsqu’on travaille avec des listes\n",
    "ou des chaîne de caractères, des effets inattendus peuvent alors se produire."
   ]
  },
  {
   "cell_type": "code",
   "execution_count": null,
   "metadata": {
    "deletable": false,
    "editable": false,
    "nbgrader": {
     "checksum": "3a791f1c733a750b6472c39e2ee39f35",
     "grade": false,
     "grade_id": "cell-278e6d8e052a76e9",
     "locked": true,
     "schema_version": 1,
     "solution": false
    }
   },
   "outputs": [],
   "source": [
    "# une erreur classique\n",
    "liste_desordre=[3,2,5,6,3,1]\n",
    "liste_ordre=liste_desordre\n",
    "liste_ordre.sort()\n",
    "print (\"Liste en ordre\",liste_ordre)\n",
    "print (\"Liste de départ\",liste_desordre) # oups"
   ]
  },
  {
   "cell_type": "markdown",
   "metadata": {
    "deletable": false,
    "editable": false,
    "nbgrader": {
     "checksum": "5db244a7ea3e9668045bd86307dee32a",
     "grade": false,
     "grade_id": "cell-6b44ade88764d06b",
     "locked": true,
     "schema_version": 1,
     "solution": false
    }
   },
   "source": [
    "Et voici comment réaliser une véritable dupplication de notre liste : on utilise la méthode ***copy()***"
   ]
  },
  {
   "cell_type": "code",
   "execution_count": null,
   "metadata": {
    "deletable": false,
    "editable": false,
    "nbgrader": {
     "checksum": "6884004508b31e1869ff73e1d7247c28",
     "grade": false,
     "grade_id": "cell-918b395e087f07e5",
     "locked": true,
     "schema_version": 1,
     "solution": false
    }
   },
   "outputs": [],
   "source": [
    "liste_desordre=[3,2,5,6,3,1]\n",
    "liste_ordre=liste_desordre.copy()\n",
    "liste_ordre.sort()\n",
    "print (\"Liste en ordre\",liste_ordre)\n",
    "print (\"Liste de départ\",liste_desordre) # ouf"
   ]
  },
  {
   "cell_type": "markdown",
   "metadata": {
    "deletable": false,
    "editable": false,
    "nbgrader": {
     "checksum": "f0c3f3a5afc8acb0804c39492a79f73f",
     "grade": false,
     "grade_id": "cell-76f095edf66bde82",
     "locked": true,
     "schema_version": 1,
     "solution": false
    }
   },
   "source": [
    "## Exercice\n",
    "Ecrire une fonction double1 qui prend une liste de nombre en paramètre et qui multiplie chaque élément par 2. La fonction double1 renvoie la liste doublée. La liste de départ **est modifiée **par cette fonction.\n",
    "\n",
    "Ecrire une fonction double2 qui prend une liste de nombre en paramètre et renvoie une liste contenant les doubles de tous les éléments de la liste passée en paramètre. La liste de départ **n'est pas modifiée** par cette fonction.\n",
    "\n",
    "Regardez la cellule de tests pour plus d'informations si nécessaire"
   ]
  },
  {
   "cell_type": "code",
   "execution_count": null,
   "metadata": {
    "deletable": false,
    "nbgrader": {
     "checksum": "00040a6f317b11f49e8ea69a0944de23",
     "grade": false,
     "grade_id": "cell-12e6d2226dc83926",
     "locked": false,
     "schema_version": 1,
     "solution": true
    }
   },
   "outputs": [],
   "source": [
    "# YOUR CODE HERE\n",
    "raise NotImplementedError()"
   ]
  },
  {
   "cell_type": "code",
   "execution_count": null,
   "metadata": {
    "deletable": false,
    "editable": false,
    "nbgrader": {
     "checksum": "f8e03b7080235170bb4c98fde705725f",
     "grade": true,
     "grade_id": "cell-b1100d2aca767185",
     "locked": true,
     "points": 1,
     "schema_version": 1,
     "solution": false
    }
   },
   "outputs": [],
   "source": [
    "# Cellule de test\n",
    "\n",
    "liste = [3,4,5]\n",
    "assert double1(liste) ==[6,8,10]\n",
    "# double1 modifie la liste de départ\n",
    "assert liste == [6,8,10]\n",
    "\n",
    "liste = [3,4,5]\n",
    "assert double2(liste) ==[6,8,10]\n",
    "# double2 ne modifie pas la liste de départ\n",
    "assert liste == [3,4,5]"
   ]
  },
  {
   "cell_type": "markdown",
   "metadata": {
    "deletable": false,
    "editable": false,
    "nbgrader": {
     "checksum": "834af1da4a36ec40e40ed24815c30330",
     "grade": false,
     "grade_id": "cell-aee1b9f6120d85f3",
     "locked": true,
     "schema_version": 1,
     "solution": false
    }
   },
   "source": [
    "## Le cas des chaînes"
   ]
  },
  {
   "cell_type": "markdown",
   "metadata": {
    "deletable": false,
    "editable": false,
    "nbgrader": {
     "checksum": "b14eb4e2efb3f6e7c7fa18a2108589ed",
     "grade": false,
     "grade_id": "cell-72226f92df8da66f",
     "locked": true,
     "schema_version": 1,
     "solution": false
    }
   },
   "source": [
    "Lorsque l'on manipule des variables contenant des chaînes de caractères, manipule t-on les références vers ces chaînes ou bien les contenus des chaînes de caractères ?\n",
    "\n",
    "Le comportement des chaînes de caractères est-il identique à celui des listes ou non ?\n",
    "\n",
    "En vous inspirant des manipulations faites listes mais avec des chaînes de caractères, tentez d'apporter des réponses à ces questions."
   ]
  },
  {
   "cell_type": "code",
   "execution_count": null,
   "metadata": {},
   "outputs": [],
   "source": [
    "# Faites vos tests ici"
   ]
  },
  {
   "cell_type": "markdown",
   "metadata": {
    "deletable": false,
    "editable": false,
    "nbgrader": {
     "checksum": "ac48ba33c4215c0d1aab15d159843ebf",
     "grade": false,
     "grade_id": "cell-12aba3f51c64e9ae",
     "locked": true,
     "schema_version": 1,
     "solution": false
    }
   },
   "source": [
    "Lorsque on manipule des chaines de caractères, on manipule des références vers ces chaines. De ce point de vue, les chaînes se comporte comme les listes.\n",
    "\n",
    "Observons si on peut avoir un *effet de bord* (modification non prévue d'une variable) :"
   ]
  },
  {
   "cell_type": "code",
   "execution_count": null,
   "metadata": {},
   "outputs": [],
   "source": [
    "chaine = 'salut tout le monde'\n",
    "autrechaine = chaine"
   ]
  },
  {
   "cell_type": "code",
   "execution_count": null,
   "metadata": {
    "deletable": false,
    "editable": false,
    "nbgrader": {
     "checksum": "3335654f0934963fb49b9758b2d03e62",
     "grade": false,
     "grade_id": "cell-b7f44e1f9aa51df0",
     "locked": true,
     "schema_version": 1,
     "solution": false
    }
   },
   "outputs": [],
   "source": [
    "autrechaine[2]=\"a\""
   ]
  },
  {
   "cell_type": "markdown",
   "metadata": {
    "deletable": false,
    "editable": false,
    "nbgrader": {
     "checksum": "daec351f566741ffe9a6034d411beed9",
     "grade": false,
     "grade_id": "cell-e61af2342c12140c",
     "locked": true,
     "schema_version": 1,
     "solution": false
    }
   },
   "source": [
    "Il semble que les chaînes ne puissent pas être modifiées sur place. Ce sont des objets non mutables. Cela les distingue de listes. De ce point de vue, cela nous protège des *effets de bord* constatés sur les listes.\n",
    "\n",
    "Oui mais qu'en est-il de la concaténation ? en effet, on peut ajouter une chaine au bout d'une chaine et en ce sens modifier notre chaine... regardons :"
   ]
  },
  {
   "cell_type": "code",
   "execution_count": null,
   "metadata": {
    "deletable": false,
    "editable": false,
    "nbgrader": {
     "checksum": "7c2556ba269da23a808a4e10c9d66c12",
     "grade": false,
     "grade_id": "cell-ccf4a14c55e8538e",
     "locked": true,
     "schema_version": 1,
     "solution": false
    }
   },
   "outputs": [],
   "source": [
    "autrechaine += \" est moche\"\n",
    "print(autrechaine)\n",
    "print(chaine)"
   ]
  },
  {
   "cell_type": "markdown",
   "metadata": {
    "deletable": false,
    "editable": false,
    "nbgrader": {
     "checksum": "da2dd14b064e699bb138d7e688dec719",
     "grade": false,
     "grade_id": "cell-925a56f644aff22e",
     "locked": true,
     "schema_version": 1,
     "solution": false
    }
   },
   "source": [
    "Tout va bien, autrechaine est modifiée mais sans effet non désiré sur chaine. Mais comment est-ce possible puisque on a modifié autrechaine ?"
   ]
  },
  {
   "cell_type": "code",
   "execution_count": null,
   "metadata": {
    "deletable": false,
    "editable": false,
    "nbgrader": {
     "checksum": "7b49fa786770f685d26346f161d7f6f1",
     "grade": false,
     "grade_id": "cell-3ef6e965f344d1dc",
     "locked": true,
     "schema_version": 1,
     "solution": false
    }
   },
   "outputs": [],
   "source": [
    "print(id(autrechaine))\n",
    "print(id(chaine))"
   ]
  },
  {
   "cell_type": "markdown",
   "metadata": {
    "deletable": false,
    "editable": false,
    "nbgrader": {
     "checksum": "8d0fba033b4e6e56468a627e5637d9a5",
     "grade": false,
     "grade_id": "cell-1230ccf9d5317595",
     "locked": true,
     "schema_version": 1,
     "solution": false
    }
   },
   "source": [
    "Après ajout d'une autre chaine au bout de la variable *autrechaine*, la variable *autrechaine* pointe sur un nouvel objet. Cela prouve que les chaines de caractères sont des objets non mutables contrairement aux listes.\n",
    "\n",
    "Pas de crainte d'effet de bord sur les chaines."
   ]
  },
  {
   "cell_type": "markdown",
   "metadata": {
    "deletable": false,
    "editable": false,
    "nbgrader": {
     "checksum": "6bfddc823557b2541bb26d47794a8e86",
     "grade": false,
     "grade_id": "cell-ca4dd06544043c28",
     "locked": true,
     "schema_version": 1,
     "solution": false
    }
   },
   "source": [
    "# Conclusion"
   ]
  },
  {
   "cell_type": "markdown",
   "metadata": {
    "deletable": false,
    "editable": false,
    "nbgrader": {
     "checksum": "a51eb33ee7371c5895f17e472d03f7af",
     "grade": false,
     "grade_id": "cell-143925da866983eb",
     "locked": true,
     "schema_version": 1,
     "solution": false
    }
   },
   "source": [
    "Il y a deux grands types d'objets en python :\n",
    "- les objets mutables\n",
    "- les objets immuables\n",
    "\n",
    "Les objets mutables sont des objets qui acceptent d'être modifiés sans avoir besoin d'être recopiés - on parle alors de modification sur place. Exemples : les listes, les dictionnaires, les ensembles.\n",
    "\n",
    "Les objets immuables sont des objets qui nécessitent d'être recréés pour être modifiés. Exemple : les chaines de caractères ou les tuples.\n",
    "\n",
    "Il faut être très prudent lors de la manipulation d'objets mutables à cause du problème des **références partagées** qui peut occasionner des *effets de bords* non désirés : modification non prévue d'autres variables que celle sur laquelle on agit."
   ]
  },
  {
   "cell_type": "code",
   "execution_count": null,
   "metadata": {},
   "outputs": [],
   "source": []
  }
 ],
 "metadata": {
  "kernelspec": {
   "display_name": "Python 3",
   "language": "python",
   "name": "python3"
  },
  "language_info": {
   "codemirror_mode": {
    "name": "ipython",
    "version": 3
   },
   "file_extension": ".py",
   "mimetype": "text/x-python",
   "name": "python",
   "nbconvert_exporter": "python",
   "pygments_lexer": "ipython3",
   "version": "3.6.7"
  }
 },
 "nbformat": 4,
 "nbformat_minor": 1
}
