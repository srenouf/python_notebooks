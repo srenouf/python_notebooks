{
 "cells": [
  {
   "cell_type": "markdown",
   "metadata": {},
   "source": [
    "# Cours M. Lecluse  - Maths / Informatique\n",
    "\n",
    "Complétez le document ci-dessous. Vous validerez les cellules au fur-à-mesure en prenant le temps de lire attentivement les consignes.\n",
    "\n",
    "Certaines cellules contiennent ce texte :\n",
    "    # YOUR CODE HERE\n",
    "    raise NotImplementedError()\n",
    "Vous **remplacerez** ce contenu par votre propre programme ou fonction afin de répondre au problème posé. Ce code est conçu pour provoquer une erreur si vous ne traitez pas la question.\n",
    "\n",
    "Une fois le document complété, n'oubliez pas de cliquer sur le bouton **submit** dans l'onglet *assignments*.\n",
    "\n",
    "Ce *notebook* peut être considéré comme un cahier interactif. N'hésitez pas à vous l'approprier en ajoutant des cellules de texte ou de code selon vos besoins !"
   ]
  },
  {
   "cell_type": "markdown",
   "metadata": {},
   "source": [
    "# Programmation Orientée Objet - Partie 2"
   ]
  },
  {
   "cell_type": "markdown",
   "metadata": {},
   "source": [
    "# Faisons nos classes !"
   ]
  },
  {
   "cell_type": "markdown",
   "metadata": {},
   "source": [
    "Un exemple valant mieux qu'un long discours, supposons que je sois en train de développer un programme permettant de travailler sur les polynômes.\n",
    "\n",
    "Je peux définir un objet représentant un polynôme en général. On peut choisir de représenter les coefficients par une liste de nombres, qui sera donc une *propriété* de notre classe et définir une *méthode* permettant de calculer le degré du polynôme.\n",
    "\n",
    "Avec ces conventions, la liste [1,2,3] représente le polynôme $1+2x+3x^2$."
   ]
  },
  {
   "cell_type": "markdown",
   "metadata": {},
   "source": [
    "## Exemple de classe"
   ]
  },
  {
   "cell_type": "markdown",
   "metadata": {},
   "source": [
    "Voici le code définissant la classe **Polynome** avec une méthode pour calculer le degré et une autre pour calculer une valeur en un réel $x$"
   ]
  },
  {
   "cell_type": "code",
   "execution_count": null,
   "metadata": {},
   "outputs": [],
   "source": [
    "class Polynome :\n",
    "    \"\"\"Représentation d'un polynome à coefficients réels\"\"\"\n",
    "\n",
    "    def __init__(self, liste_coeffs = [0]) :\n",
    "        \"\"\"Initialisation des coeffs, polynome nul par défaut\"\"\"\n",
    "        self.coeffs = liste_coeffs\n",
    "\n",
    "    def deg(self) :\n",
    "        \"\"\"Degré du polynome\"\"\"\n",
    "        return len(self.coeffs)-1\n",
    "\n",
    "    def valeur(self, x) :\n",
    "        \"\"\"Calcule P(x)\"\"\"\n",
    "        val = self.coeffs[0]\n",
    "        power = 1\n",
    "        for k  in range(1, len(self.coeffs)) :\n",
    "            power = power * x\n",
    "            val = val + self.coeffs[k]*power\n",
    "        return val"
   ]
  },
  {
   "cell_type": "markdown",
   "metadata": {},
   "source": [
    "### Explications et remarques"
   ]
  },
  {
   "cell_type": "markdown",
   "metadata": {},
   "source": [
    "- Par convention, on mettra une **majuscule à la première lettre du nom d'une classe**, pour les différencier des autres variables, fonctions qui, elles, débuteront toujours par une lettre minuscule.\n",
    "- La première méthode définie ci-dessous porte le nom spécial *** \\_\\_init\\_\\_()*** : il s'agit de la *méthode constructeur* : elle est **automatiquement exécutée lors de la création d'un nouvel objet de type Polynome** (voir plus loin).\n",
    "- Dans cette méthode, nous déclarons une *propriété* à notre classe par l'affectation **self.coeffs = **. Une propriété est une variable qui est *attachée* à la classe, d'où le recours à *self* pour référencer l'objet lui-même. En général, ces *propriétés* sont initialisées dans la *méthode*  *** \\_\\_init\\_\\_()***.\n",
    "- Chacune des trois méthodes possède comme premier argument le paramètre spécial *self* : il représente l'objet \"lui-même\" dont on est en train de définir une méthode. La référence à cet objet est **obligatoire** : Toute déclaration de méthode doit contenir **self** comme premier paramètre.\n",
    "- On le voit sur cet exemple, une méthode n'est pas grand chose de plus qu'une fonction telle que vous la conaissez ! la manière de la déclarer dans une classe est assez similaire - au paramètre **self** près."
   ]
  },
  {
   "cell_type": "markdown",
   "metadata": {},
   "source": [
    "L'objet ***Polynome()*** que nous venons de créer possède\n",
    "- une *propriété* : la liste **coeffs**\n",
    "- deux *méthodes* en plus de ***\\_\\_init()\\_\\_*** (qui elle est systématique) : **deg()** et **valeur()**\n",
    "\n",
    "L'accès à la *propriété* **coeffs** de notre classe se fait au travers de la variable *self.coeffs*"
   ]
  },
  {
   "cell_type": "markdown",
   "metadata": {},
   "source": [
    "### Utilisons notre nouvelle classe"
   ]
  },
  {
   "cell_type": "code",
   "execution_count": null,
   "metadata": {},
   "outputs": [],
   "source": [
    "p = Polynome([0, 2, 3, 1])\n",
    "print(\"P est de degré \",p.deg())\n",
    "print(\"P(10)=\",p.valeur(10))\n",
    "print(\"Les coeffs de P sont \",p.coeffs)"
   ]
  },
  {
   "cell_type": "markdown",
   "metadata": {},
   "source": [
    "### Explications et remarques"
   ]
  },
  {
   "cell_type": "markdown",
   "metadata": {},
   "source": [
    "- Lors de la création d'un nouveau polynôme, on appelle la classe *Polynome()* avec comme argument la liste des coefficients. Cela a pour effet d'exécuter la méthode constructeur ***\\_\\_init\\_\\_()*** de la classe Polynome() qui crée la *propriété* **coeffs** correspondant.\n",
    "- Pour exécuter une *méthode* associée à l'objet *p*, on utilise la notation pointée et on omet l'argument *self* : celui-ci n'est précisé **que lors de la définition d'une méthode, mais pas lors de son exécution**."
   ]
  },
  {
   "cell_type": "markdown",
   "metadata": {},
   "source": [
    "## Un peu de magie : surcharge de fonctions prédéfinies"
   ]
  },
  {
   "cell_type": "markdown",
   "metadata": {},
   "source": [
    "### Affichage d'un polynôme"
   ]
  },
  {
   "cell_type": "markdown",
   "metadata": {},
   "source": [
    "Pour afficher un polynôme, la commande *print()* ne donne pas le résultat attendu :"
   ]
  },
  {
   "cell_type": "code",
   "execution_count": null,
   "metadata": {},
   "outputs": [],
   "source": [
    "print(p)"
   ]
  },
  {
   "cell_type": "markdown",
   "metadata": {},
   "source": [
    "Pour parvenir au résultat attendu, on peut surcharger la fonction *print()*. Plus précisément, on peut indiquer à Python comment convertir un polynôme en chaîne de caractères, ce que fera ensuite automatiquement la commande *print()*.\n",
    "\n",
    "Pour cela, vous allez créer la méthode **\\_\\_str\\_\\_()** dans la définition de la classe Polynome(). Vous renverrez une chaîne de caractère bien formatée représentant le polynôme en respectant les règles suivantes\n",
    "- vous partirez du terme de plus petit degré vers le terme de plus haut degré.\n",
    "- la variable se nommera 'X' (en majuscule)\n",
    "- vous mettrez des espaces autour des ' + ' et des ' - ' entre chaque termes\n",
    "- vous n'écrirez pas ' + -2X ' par exemple mais ' -2X'\n",
    "- vous n'écrirez pas les termes nuls\n",
    "\n",
    "bref, tout ce qui va dans le sens d'une écriture naturelle.\n",
    "\n",
    "**Exemple** : pour le polynôme [0, 2, -3, 1] vous renverrez '2X - 3X^2 + X^3'"
   ]
  },
  {
   "cell_type": "code",
   "execution_count": null,
   "metadata": {
    "deletable": false,
    "nbgrader": {
     "checksum": "b94d7b932122b0cd41269c22f13b9542",
     "grade": false,
     "grade_id": "cell-6461216ef6b8e436",
     "locked": false,
     "schema_version": 1,
     "solution": true
    }
   },
   "outputs": [],
   "source": [
    "class Polynome :\n",
    "    \"\"\"Représentation d'un polynome à coefficients réels\"\"\"\n",
    "\n",
    "    def __init__(self, liste_coeffs = [0]) :\n",
    "        \"\"\"Initialisation des coeffs, polynome nul par défaut\"\"\"\n",
    "        self.coeffs = liste_coeffs\n",
    "\n",
    "    def deg(self) :\n",
    "        \"\"\"Degré du polynome\"\"\"\n",
    "        return len(self.coeffs)-1\n",
    "\n",
    "    def valeur(self, x) :\n",
    "        \"\"\"Calcule P(x)\"\"\"\n",
    "        val = self.coeffs[0]\n",
    "        power = 1\n",
    "        for k  in range(1, len(self.coeffs)) :\n",
    "            power = power * x\n",
    "            val = val + self.coeffs[k]*power\n",
    "        return val\n",
    "    \n",
    "    def __str__(self) :\n",
    "        \"\"\" Convertit le polynome en chaine pour affichage\"\"\"\n",
    "        # YOUR CODE HERE\n",
    "        raise NotImplementedError()"
   ]
  },
  {
   "cell_type": "code",
   "execution_count": null,
   "metadata": {
    "deletable": false,
    "editable": false,
    "nbgrader": {
     "checksum": "517da341aab47684bca2619472017a0f",
     "grade": true,
     "grade_id": "cell-f8866f8b4d0caa59",
     "locked": true,
     "points": 1,
     "schema_version": 1,
     "solution": false
    }
   },
   "outputs": [],
   "source": [
    "p = Polynome([0, 2, -3, 1])\n",
    "assert p.__str__() == '2X - 3X^2 + X^3'\n",
    "print(p)"
   ]
  },
  {
   "cell_type": "markdown",
   "metadata": {},
   "source": [
    "### Addition de polynômes"
   ]
  },
  {
   "cell_type": "markdown",
   "metadata": {},
   "source": [
    "Soit les polynômes $P(x)=2x+3x^2+x^3$ et $Q(x)=x^6$. Pour obtenir le polynôme $P+Q$, on aimerait utiliser simplement l'opérateur '+'. Mais voilà ce qui arrive "
   ]
  },
  {
   "cell_type": "code",
   "execution_count": null,
   "metadata": {},
   "outputs": [],
   "source": [
    "p = Polynome([0, 2, 3, 1])\n",
    "q = Polynome([0, 0, 0, 0, 0, 0, 1])\n",
    "s = p + q\n",
    "print(s)"
   ]
  },
  {
   "cell_type": "markdown",
   "metadata": {},
   "source": [
    "Là encore, pour résoudre ce problème, on peut surcharger l'addition en définissant la méthode spéciale **\\_\\_add\\_\\_()**, c'est-à-dire apprendre à Python comment on additionne deux polynômes.\n",
    "\n",
    "Completez la classe ***Polynomes()*** de manière à implémenter la somme de 2 polynômes"
   ]
  },
  {
   "cell_type": "code",
   "execution_count": null,
   "metadata": {
    "deletable": false,
    "nbgrader": {
     "checksum": "e25bc69de16ced212f128dd52f25616f",
     "grade": false,
     "grade_id": "cell-d6a925de3031fa89",
     "locked": false,
     "schema_version": 1,
     "solution": true
    }
   },
   "outputs": [],
   "source": [
    "class Polynome :\n",
    "    # YOUR CODE HERE\n",
    "    raise NotImplementedError()"
   ]
  },
  {
   "cell_type": "markdown",
   "metadata": {},
   "source": [
    "Essayons à nouveau l'addition de nos polynômes"
   ]
  },
  {
   "cell_type": "code",
   "execution_count": null,
   "metadata": {
    "deletable": false,
    "editable": false,
    "nbgrader": {
     "checksum": "1ba3127cde21c009bbd50f15951d6f6c",
     "grade": true,
     "grade_id": "cell-09a9ea31934b1423",
     "locked": true,
     "points": 1,
     "schema_version": 1,
     "solution": false
    }
   },
   "outputs": [],
   "source": [
    "p = Polynome([0, 2, 3, 1])\n",
    "q = Polynome([0, 0, 0, 0, 0, 0, 1])\n",
    "s = p + q\n",
    "print(s)\n",
    "assert s.coeffs == [0, 2, 3, 1, 0, 0, 1]"
   ]
  },
  {
   "cell_type": "markdown",
   "metadata": {},
   "source": [
    "### Autres méthodes spéciales"
   ]
  },
  {
   "cell_type": "markdown",
   "metadata": {},
   "source": [
    "On peut également définir des méthodes **\\_\\_sub\\_\\_()** pour la soustraction, **\\_\\_mul\\_\\_()** pour la multiplication, **\\_\\_truediv\\_\\_()** pour la division, etc...\n",
    "\n",
    "D'autres méthodes spéciales existent : la [liste complète](https://docs.python.org/3/reference/datamodel.html) est disponible dans la documentation de Python."
   ]
  },
  {
   "cell_type": "markdown",
   "metadata": {},
   "source": [
    "## Le concept d'héritage"
   ]
  },
  {
   "cell_type": "markdown",
   "metadata": {},
   "source": [
    "L'un des grands avantages des objets est l'héritage. Cela permet de personaliser une classe en héritant des propriétés et méthodes d'une autre classe.\n",
    "\n",
    "Nous allons en voir un exemple en créant une classe ***Trinome()*** pour le cas particulier des polynômes du second degré. En effet, un polynome du second degré étant un cas particulier de polynome, nous ne voulons pas réécrire tout le code que nous venons de créer, notamment pour l'affichage et l'addition. Néanmoins, pour le trinome, nous savons calculer les racines et nous souhaitons donc enrichir notre classe ***Trinome()*** avec une *méthode* suplémentaire appelée **racines()**. Celle-ci utilisera une nouvelle *propriété* **delta** créée lors de l'initialisation de notre classe. \n",
    "\n",
    "Pour éviter de réécrire toutes les fonctions propres aux polynomes, nous allons faire *hériter* notre classe ***Trinome()*** de la classe ***Polynomes()***.\n",
    "\n",
    "Regardez plutôt avec quelle facilité à présent nous allons créer notre classe ***Trinome()*** :"
   ]
  },
  {
   "cell_type": "code",
   "execution_count": null,
   "metadata": {},
   "outputs": [],
   "source": [
    "class Trinome(Polynome) :\n",
    "    \"\"\" Représentation des polynomes du second degré\"\"\"\n",
    "    \n",
    "    def __init__(self, liste_coeffs=[0,0,1]) :\n",
    "        \"\"\" Initialisation d'un trinome, x^2 par défaut \"\"\"\n",
    "        Polynome.__init__(self, liste_coeffs) # On appelle le constructeur parent\n",
    "        self.a = liste_coeffs[2]\n",
    "        self.b = liste_coeffs[1]\n",
    "        self.c = liste_coeffs[0]\n",
    "        self.delta = self.b ** 2 - 4 * self.a * self.c\n",
    "\n",
    "    def racines(self) :\n",
    "        \"\"\" Calcule les racines éventuelles d'un trinome \"\"\"\n",
    "        if self.delta < 0 :\n",
    "            return None\n",
    "        elif self.delta == 0 :\n",
    "            return -self.b / (2 * self.a)\n",
    "        else :\n",
    "            return ( (- self.b - sqrt(self.delta)) / (2 * self.a) ,\n",
    "                     (- self.b + sqrt(self.delta)) / (2 * self.a) )"
   ]
  },
  {
   "cell_type": "markdown",
   "metadata": {},
   "source": [
    "### Explications et remarques"
   ]
  },
  {
   "cell_type": "markdown",
   "metadata": {},
   "source": [
    "- La méthode constructeur **\\_\\_init\\_\\_()** de la classe fille doit **obligatoirement appeler la méthode constructeur de sa mère**. C'est le rôle ici de la ligne 6.\n",
    "- On définit ensuite les nouveaux attributs propres aux objets de la classe ***Trinome()***."
   ]
  },
  {
   "cell_type": "markdown",
   "metadata": {},
   "source": [
    "### Utilisation de la nouvelle classe"
   ]
  },
  {
   "cell_type": "markdown",
   "metadata": {},
   "source": [
    "Testons maintenant notre nouvelle classe Trinome().\n",
    "\n",
    "Cette classe ayant été explicitement définie comme fille de la classe Polynome(), elle a hérité de toutes les méthodes et de tous les attributs de celle-ci.\n",
    "\n",
    "On peut donc exécuter le code suivant :"
   ]
  },
  {
   "cell_type": "code",
   "execution_count": null,
   "metadata": {},
   "outputs": [],
   "source": [
    "t1 = Trinome([2, -3, -5])\n",
    "print(t1)\n",
    "print(\"Delta=\",t1.delta)\n",
    "print(\"Racines\",t1.racines())\n",
    "print(t1.valeur(0.4))"
   ]
  },
  {
   "cell_type": "markdown",
   "metadata": {},
   "source": [
    "# A vous de jouer"
   ]
  },
  {
   "cell_type": "markdown",
   "metadata": {},
   "source": [
    "Créer une classe pour représenter les nombre rationnels. \n",
    "\n",
    "Vous définirez les méthodes permettant d’additionner, de soustraire, de multiplier et de diviser deux rationnels, ainsi qu'une méthode permettant un affichage sous la forme a/b."
   ]
  },
  {
   "cell_type": "code",
   "execution_count": null,
   "metadata": {
    "deletable": false,
    "nbgrader": {
     "checksum": "599cd34bda7a0cb4b6ae624c56dc816b",
     "grade": false,
     "grade_id": "cell-eaebda803b93f843",
     "locked": false,
     "schema_version": 1,
     "solution": true
    }
   },
   "outputs": [],
   "source": [
    "# YOUR CODE HERE\n",
    "raise NotImplementedError()"
   ]
  },
  {
   "cell_type": "code",
   "execution_count": null,
   "metadata": {
    "deletable": false,
    "editable": false,
    "nbgrader": {
     "checksum": "42c301a8d71fd76c8f3e3f89435525d6",
     "grade": true,
     "grade_id": "cell-a46a30f47e6cdc20",
     "locked": true,
     "points": 0,
     "schema_version": 1,
     "solution": false
    }
   },
   "outputs": [],
   "source": [
    "# Tester votre classe\n",
    "p=Rationnel(2,3)\n",
    "q=Rationnel(3,4)\n",
    "print (\"p=\",p)\n",
    "print (\"q=\",q)\n",
    "print(\"p+q=\",p+q)\n",
    "print(\"p-q=\",p-q)\n",
    "print(\"p*q=\",p*q)\n",
    "print(\"p/q=\",p/q)\n",
    "assert (p/q).p==8\n",
    "assert (p*q).q==12"
   ]
  },
  {
   "cell_type": "markdown",
   "metadata": {},
   "source": [
    "# Exercice facultatif"
   ]
  },
  {
   "cell_type": "markdown",
   "metadata": {},
   "source": [
    "Pour la gestion d'une bibliothèque, créer une classe ***Document()*** définissant une propriété booléen **sorti**, une propriété **titre** sous forme de chaîne de caractère, une méthode **prete()** et une méthode **retourne()** qui changent la valeur de la propriété **sorti**.\n",
    "\n",
    "Créer ensuite une classe fille ***Livre()*** qui possédera en plus une propriété **auteur** et une propriété **nombre_de_pages** ainsi qu'une classe fille ***Dvd()*** avec une propriété **duree** en minutes.\n",
    "\n",
    "Attention, toutes les propriétés doivent être initialisées par la méthode constructeur de la classe !"
   ]
  },
  {
   "cell_type": "code",
   "execution_count": null,
   "metadata": {
    "deletable": false,
    "nbgrader": {
     "checksum": "0cb7506d053f2fd5b58a59a8aa411d91",
     "grade": false,
     "grade_id": "cell-6ec9e82139a3c230",
     "locked": false,
     "schema_version": 1,
     "solution": true
    }
   },
   "outputs": [],
   "source": [
    "# YOUR CODE HERE\n",
    "raise NotImplementedError()"
   ]
  },
  {
   "cell_type": "markdown",
   "metadata": {},
   "source": [
    "![](https://upload.wikimedia.org/wikipedia/commons/3/3b/SteacieLibrary.jpg)"
   ]
  },
  {
   "cell_type": "code",
   "execution_count": null,
   "metadata": {},
   "outputs": [],
   "source": []
  }
 ],
 "metadata": {
  "kernelspec": {
   "display_name": "Python 3",
   "language": "python",
   "name": "python3"
  },
  "language_info": {
   "codemirror_mode": {
    "name": "ipython",
    "version": 3
   },
   "file_extension": ".py",
   "mimetype": "text/x-python",
   "name": "python",
   "nbconvert_exporter": "python",
   "pygments_lexer": "ipython3",
   "version": "3.6.7"
  }
 },
 "nbformat": 4,
 "nbformat_minor": 1
}
