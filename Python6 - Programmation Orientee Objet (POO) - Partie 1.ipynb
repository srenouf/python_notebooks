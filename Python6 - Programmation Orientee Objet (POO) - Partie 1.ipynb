{
 "cells": [
  {
   "cell_type": "markdown",
   "metadata": {},
   "source": [
    "# Cours M. Lecluse  - Maths / Informatique\n",
    "\n",
    "Complétez le document ci-dessous. Vous validerez les cellules au fur-à-mesure en prenant le temps de lire attentivement les consignes.\n",
    "\n",
    "Certaines cellules contiennent ce texte :\n",
    "    # YOUR CODE HERE\n",
    "    raise NotImplementedError()\n",
    "Vous **remplacerez** ce contenu par votre propre programme ou fonction afin de répondre au problème posé. Ce code est conçu pour provoquer une erreur si vous ne traitez pas la question.\n",
    "\n",
    "Une fois le document complété, n'oubliez pas de cliquer sur le bouton **submit** dans l'onglet *assignments*.\n",
    "\n",
    "Ce *notebook* peut être considéré comme un cahier interactif. N'hésitez pas à vous l'approprier en ajoutant des cellules de texte ou de code selon vos besoins !"
   ]
  },
  {
   "cell_type": "markdown",
   "metadata": {},
   "source": [
    "# Programmation Orientée Objet"
   ]
  },
  {
   "cell_type": "markdown",
   "metadata": {},
   "source": [
    "Objets et POO sont au centre de la manière Python fonctionne. Vous n'êtes pas obligé d'utiliser la POO dans vos programmes - mais comprendre le concept est essentiel pour devenir plus qu'un débutant. Entre autres raisons parce que vous aurez besoin d'utiliser les classes et objets fournis par la librairie standard.\n",
    "\n",
    "De plus, avant d'aborder la programmation d'interfaces graphiques qui utilisent abondamment les objet, des notions autour de la POO seront utiles."
   ]
  },
  {
   "cell_type": "markdown",
   "metadata": {},
   "source": [
    "## Petit historique"
   ]
  },
  {
   "cell_type": "markdown",
   "metadata": {},
   "source": [
    "La programmation en tant que telle est une matière relativement récente. Etonnament la programmation orientée objet remonte aussi loin que les années 1960. *Simula* est considéré comme le premier langage de programmation orienté objet.\n",
    "\n",
    "Les années 1970 voient les principes de la programmation par objet se développent et prennent forme au travers notamment du langage *Smalltalk*\n",
    "\n",
    "À partir des années 1980, commence l'effervescence des langages à objets : *Objective C* (début des années 1980, utilisé sur les plateformes Mac et iOS), *C++* (C with classes) en 1983 sont les plus célèbres. \n",
    "\n",
    "Les années 1990 voient l'âge d'or de l'extension de la programmation par objet dans les différents secteurs du développement logiciel, notemment grâce à l'émergence des systèmes d'exploitation basés sur une interface graphique (MacOS, Linux, Windows) qui font appel abondamment aux principes de la POO.\n",
    "\n",
    "Nous verrons sur le prochain classeur comment une interface graphique peut se programmer au moyens d'objets (fenêtre, boutons, textes, champs de saisie etc...)."
   ]
  },
  {
   "cell_type": "markdown",
   "metadata": {},
   "source": [
    "## Programmation procédurale"
   ]
  },
  {
   "cell_type": "markdown",
   "metadata": {},
   "source": [
    "La programmation procédurale est celle que vous avez utilisé jusqu'à maintenant : cela consiste à diviser votre programme en blocs réutilisables appelés fonctions.\n",
    "\n",
    "Vous essayez autant que possible de garder votre code en blocs modulaires, en décidant de manière logique quel bloc est appelé. Cela demande moins d’effort pour visualiser ce que votre programme fait. Cela rend plus facile la maintenance de votre code – vous pouvez voir ce que fait une portion de code. Le fait d’améliorer une fonction (qui est réutilisée) peut améliorer la performance à plusieurs endroits dans votre programme.\n",
    "\n",
    "Vous avez des variables, qui contiennent vos données, et des fonctions. Vous passez vos variables à vos fonctions – qui agissent sur elles et peut-être les modifient. L'inteaction entre les variables et les fonctions n'est pas toujours simple à gérer comme on l'a vu dans le classeur précédent ! ou bien une variable est locale et n'est pas visible des autres fonction, ou bien une variable est globale et toutes les fonctions sont suceptibles d'y avoir accès.\n",
    "\n",
    "On touche ici aux limites de la programmation procédurale, lorsque le nombre de fonctions et de variables devient important."
   ]
  },
  {
   "cell_type": "markdown",
   "metadata": {},
   "source": [
    "## Mais qu’est ce qu’un Objet ?"
   ]
  },
  {
   "cell_type": "markdown",
   "metadata": {},
   "source": [
    "En Python les éléments de base de la programmation que nous avons rencontré comme les chaînes de caractères, ou les listes sont des objets. Ils possèdent des *propriétés* - variables qui stockent des valeurs - et des *méthodes* - fonctions qui agissent sur ces valeurs.\n",
    "\n",
    "Voici un petit exemple d'objet qui vous est déjà familier :"
   ]
  },
  {
   "cell_type": "code",
   "execution_count": null,
   "metadata": {},
   "outputs": [],
   "source": [
    "liste=[3,5,4,2,8,5,4]"
   ]
  },
  {
   "cell_type": "code",
   "execution_count": null,
   "metadata": {},
   "outputs": [],
   "source": [
    "liste.sort()\n",
    "liste"
   ]
  },
  {
   "cell_type": "markdown",
   "metadata": {},
   "source": [
    "Ici nous avons fait appel à la *méthode* **sort()** de l'*objet* **liste** afin de trier notre liste.\n",
    "\n",
    "Mais dans nos projets futurs, nous pouvons avoir envie de définir nos propres objets, c'est à dire d'enrichir la bibliothèque de types ***built-in*** standard de Python avec des objets que nous façonnerons selon nos besoins. C'est la qu'intervient la notion de classe."
   ]
  },
  {
   "cell_type": "markdown",
   "metadata": {},
   "source": [
    "# Création d'une classe"
   ]
  },
  {
   "cell_type": "markdown",
   "metadata": {},
   "source": [
    "En premier exemple, supposons que nous voulions travailler sur un logiciel de géométrie. Nous avons besoin d'un ***objet*** point qui est un nouveau type d'objet contenant deux informations :\n",
    "- l'abscisse de notre point\n",
    "- l'ordonnée de notre point.\n",
    "\n",
    "Ces deux informations sont ce que nous appelons en POO des ***attributs*** ou des ***propriétés***.\n",
    "\n",
    "Assez de discours, créons notre classe :"
   ]
  },
  {
   "cell_type": "code",
   "execution_count": null,
   "metadata": {},
   "outputs": [],
   "source": [
    "class Point():\n",
    "    abscisse=0\n",
    "    ordonnee=0"
   ]
  },
  {
   "cell_type": "markdown",
   "metadata": {},
   "source": [
    "Et c'est tout !!! nous avons créé une classe contenant deux ***propriétés*** une abscisse et une ordonnée toutes deux initialisées à 0.\n",
    "\n",
    "Comment ça marche ?"
   ]
  },
  {
   "cell_type": "code",
   "execution_count": null,
   "metadata": {},
   "outputs": [],
   "source": [
    "print (Point.abscisse)\n",
    "print (Point.ordonnee)\n",
    "Point.abscisse=2\n",
    "print (Point.abscisse)"
   ]
  },
  {
   "cell_type": "markdown",
   "metadata": {},
   "source": [
    "Ca a l'air trè simple ! En réalité, nous allons vite être limité si nous n'utilisons que cette classe. En effet, nous créé un objet classe *Point* qui contient deux informations. Mais dans notre logiciel de géométrie, nous voulons créer plusieurs points !!\n",
    "\n",
    "C'est le moment de parler de la notion ***d'instance***. Une instance est un objet que nous créons en mémoire à partir d'une classe. Voici comment :"
   ]
  },
  {
   "cell_type": "code",
   "execution_count": null,
   "metadata": {},
   "outputs": [],
   "source": [
    "p1=Point()\n",
    "p2=Point()\n",
    "p1.abscisse=2\n",
    "p2.ordonnee=3\n",
    "print (p1.abscisse,p1.ordonnee)\n",
    "print (p2.abscisse,p2.ordonnee)"
   ]
  },
  {
   "cell_type": "markdown",
   "metadata": {},
   "source": [
    "Nous y voila ! J'ai donc à présent la possibilité de créer autant de points que je veux. Il faut bien distinguer la notion de ***classe*** et la notion ***d'instance*** :\n",
    "- une ***classe*** peut être vue comme le prototype permettant de créer nos instances\n",
    "- les ***instances*** sont les véritables objets que nos manipulerons, créés à partir de notre ***prototype***.\n",
    "\n",
    "Pour bien comprendre ce phénomène, prenons une comparaison avec le monde des contructeurs automobile : Lorsqu'un contructeur va sortir une nouvelle voiture, il ne va pas immédiatement produire en série plusieurs millions de véhicules. Il va tout d'abord élaborer un ***prototype*** : \n",
    "- d'abord sur ***papier***, il va dessiner sa nouvelle voiture, les formes, les équipements, chaque pièce de sa voiture etc...\n",
    "- ensuite il va réaliser une maquette, la tester en soufflerie pour affiner sa forme\n",
    "- enfin, il va réaliser un modèle fonctionnelle qu'il testera sur route : c'est le prototype.\n",
    "\n",
    "C'est ce travail que nous réaliserons lorsque nous construirons notre ***classe***. Construire une classe c'est construire un ***prototype unique***.\n",
    "\n",
    "Une fois notre prototype terminé, notre constructeur va passer à la ***production en série***. Il va créer des millions ***d'instances*** de notre prototype qui sont les voitures ***créées en série à partir de notre prototype***. Chaque ***instance*** pourra être personnalisé à partir de notre prototype : en effet chaque nouvelle voiture possèdera sa propre couleur qui n'est pas forcément celle de notre prototype, possèdera des options spécifique (gps, toit ouvrant etc...).\n",
    "\n",
    "Retenez donc cette comparaison : \n",
    "- la ***classe*** correspond à notre ***prototype***\n",
    "- l'***instance*** correspond à la voiture produite ***en série*** à partie de notre protptype (la classe)."
   ]
  },
  {
   "cell_type": "markdown",
   "metadata": {},
   "source": [
    "## Notion de méthode"
   ]
  },
  {
   "cell_type": "markdown",
   "metadata": {},
   "source": [
    "Nous avons créé notre objet point qui se caractérise par deux ***propriétés*** : abscisse et ordonnée. Mais si ce n'était que cela, pourquoi ne pas utiliser un tuple ! Nous allons donc enrichir notre classe (le prototype servant de modèle pour créer nos points) en y ajoutant des fonctions uniques : les ***méthodes***.\n",
    "\n",
    "Nous nous intéressons par exemple à la distance séparant notre point de l'origine du repère. Nous souhaiterions que notre objet point possède une ***méthode*** pour nous renvoyer cette information. Une ***méthode*** n'est autre qu'une ***fonction*** intégrée à un objet. Voici comment procéder. Nous allons modifier notre ***classe*** :"
   ]
  },
  {
   "cell_type": "code",
   "execution_count": null,
   "metadata": {},
   "outputs": [],
   "source": [
    "from math import sqrt # On a besoin de la racine carrée !\n",
    "\n",
    "class Point():\n",
    "    abscisse=0\n",
    "    ordonnee=0\n",
    "    \n",
    "    def distanceAZero (self):\n",
    "        return sqrt (self.abscisse**2+self.ordonnee**2)"
   ]
  },
  {
   "cell_type": "markdown",
   "metadata": {},
   "source": [
    "Regardons le résultat :"
   ]
  },
  {
   "cell_type": "code",
   "execution_count": null,
   "metadata": {},
   "outputs": [],
   "source": [
    "p1=Point()\n",
    "p1.abscisse=3\n",
    "p1.ordonnee=4\n",
    "print(p1.distanceAZero())"
   ]
  },
  {
   "cell_type": "markdown",
   "metadata": {},
   "source": [
    "Et voila ! notre ***objet*** point commence à prendre tournure : il possède\n",
    "- deux ***propriétés*** : *abscisse* et *ordonnee*\n",
    "- une ***méthode*** : *distanceAZero()*\n",
    "\n",
    "Cette méthode est une fonction encapsulée dans notre objet qui agit sur ses propriétés et effecture le travail demandé. Revenons sur la déclaration de cette méthode :\n",
    "\n",
    "Une méthode se déclare comme une c=fonction classique à l'*intérieur de la classe* à ceci près qu'elle prend toujours ***en premier argument l'instance sur laquelle elle agit***. Par convention, nous nommons cette instance ***self***.\n",
    "\n",
    "Nous voyons sur l'exemple de la *distanceAZero* l'avantage de disposer de cette information d'instance : nous voulons que la méthode agisse sur l'***instance***  depuis laquelle elle a été appelée et non sur les propriétés de la classe (le prototype). La variable ***self*** nous permettra de connaître l'instance sur laquelle nous travaillons.\n",
    "\n",
    "Reste à décrire la syntaxe un peu étrange de cette fonction : Si ***self***  est le premier argument, pourquoi ne le trouve t-on pas lors de l'appel de la fonction *distanceAZero()* ? Voici l'explication.\n",
    "\n",
    "En réalité, nous devrions passer l'appel à la méthode de cette manière :"
   ]
  },
  {
   "cell_type": "code",
   "execution_count": null,
   "metadata": {},
   "outputs": [],
   "source": [
    "print(Point.distanceAZero(p1))"
   ]
  },
  {
   "cell_type": "markdown",
   "metadata": {},
   "source": [
    "Ainsi nous voyons bien que distanceAZero accepte bien l'instance sur laquelle elle agit en premier paramètre et que c'est une fonciton intégrée à la classe ***Point***. Néanmoins cette syntaxe est très lourde ! Imaginez taper la ligne suivante à la place de \n",
    "\n",
    "    liste.append(5)"
   ]
  },
  {
   "cell_type": "code",
   "execution_count": null,
   "metadata": {},
   "outputs": [],
   "source": [
    "list.append(liste,'autre syntaxe')\n",
    "# Et pourtant cela foncitonne !\n",
    "print(liste)"
   ]
  },
  {
   "cell_type": "markdown",
   "metadata": {},
   "source": [
    "Dans la pratique, une méthode sera toujours appelée depuis une instance et le premier paramètre sera omis puisque il est donnée justement par l'instance qui appelle. Syntaxiquement, les deux formes\n",
    "\n",
    "    Point.distanceAZero(p1)\n",
    "et\n",
    "\n",
    "    p1.distanceAZero()\n",
    "\n",
    "sont équivalentes. Nous utiliserons systématiquement la seconde forme."
   ]
  },
  {
   "cell_type": "markdown",
   "metadata": {},
   "source": [
    "## A vous de jouer"
   ]
  },
  {
   "cell_type": "markdown",
   "metadata": {},
   "source": [
    "Vous allez enrichir la classe ***Point*** en ajoutant\n",
    "- une propriété ***nom*** contenant le nom du point (par défaut 'A')\n",
    "- une méthode ***distance(p)*** qui \n",
    "    - affichera untexte du type \"La distance AB=5\" avec bien sur les vrais noms des points et la vraie distance\n",
    "    - retournera la distance du point au point *p* passé en argument.\n",
    "\n",
    "Attention, je rappelle qu'une méthode prend ***toujours*** en premier argument ***self***."
   ]
  },
  {
   "cell_type": "code",
   "execution_count": null,
   "metadata": {
    "deletable": false,
    "nbgrader": {
     "checksum": "a7969e8fe99b7f5a6ad21c6610d5c0af",
     "grade": false,
     "grade_id": "cell-f3ee1c6cff1d1dc0",
     "locked": false,
     "schema_version": 1,
     "solution": true
    }
   },
   "outputs": [],
   "source": [
    "from math import sqrt # On a besoin de la racine carrée !\n",
    "\n",
    "# Redéfinissez votre classe\n",
    "# YOUR CODE HERE\n",
    "raise NotImplementedError()"
   ]
  },
  {
   "cell_type": "markdown",
   "metadata": {},
   "source": [
    "Pour tester votre classe, validez la cellule suivante. La réponse doit être :\n",
    "    \n",
    "    La distance  AB = 5.0\n",
    "    Out[...]:5.0"
   ]
  },
  {
   "cell_type": "code",
   "execution_count": null,
   "metadata": {
    "deletable": false,
    "editable": false,
    "nbgrader": {
     "checksum": "53a406489bd14eb4243500673030d1e1",
     "grade": true,
     "grade_id": "cell-fe705e3f129394a9",
     "locked": true,
     "points": 1,
     "schema_version": 1,
     "solution": false
    }
   },
   "outputs": [],
   "source": [
    "p1=Point()\n",
    "p1.abscisse=2\n",
    "p1.ordonnee=3\n",
    "\n",
    "p2=Point()\n",
    "p2.abscisse=-1\n",
    "p2.ordonnee=7\n",
    "p2.nom='B'\n",
    "\n",
    "assert p1.distance(p2)==5.0"
   ]
  },
  {
   "cell_type": "markdown",
   "metadata": {},
   "source": [
    "# Surcharge des opérateurs"
   ]
  },
  {
   "cell_type": "markdown",
   "metadata": {},
   "source": [
    "On peut améliorer un peu le comportement de notre classe en initialisant de manière plus propre les différentes propriétés. En effet, pour le moment, pour créer un point avec le bon nom et les coordonnées souhaitées, nous avons besoin de 4 lignes !\n",
    "    p1=Point()\n",
    "    p1.abscisse=2\n",
    "    p1.ordonnee=3\n",
    "    p1.nom='P'\n",
    "\n",
    "On peut faire beaucoup mieux en ***surchargeant*** la méthode ***__init()__*** qui est une méthode spéciale appelée automatiquement lors de la création d'ue instance. Cette méthode prend\n",
    "- en premier paramètre ***self*** bien évidemment!\n",
    "- en paramètres optionnels, des paramètres passés à la classe lors de la création."
   ]
  },
  {
   "cell_type": "code",
   "execution_count": null,
   "metadata": {},
   "outputs": [],
   "source": [
    "class Point():\n",
    "    def __init__(self,x,y,nom):\n",
    "        self.abscisse=x\n",
    "        self.ordonnee=y\n",
    "        self.nom=nom\n",
    "    \n",
    "    def distanceAZero (self):\n",
    "        return sqrt (self.abscisse**2+self.ordonnee**2)\n",
    "    \n",
    "    def distance(self, p):\n",
    "        d=sqrt((self.abscisse-p.abscisse)**2+(self.ordonnee-p.ordonnee)**2)\n",
    "        print (\"La distance \",self.nom+p.nom,\"=\",d)\n",
    "        return d"
   ]
  },
  {
   "cell_type": "markdown",
   "metadata": {},
   "source": [
    "Regardons comment créer notre point :"
   ]
  },
  {
   "cell_type": "code",
   "execution_count": null,
   "metadata": {},
   "outputs": [],
   "source": [
    "p1=Point(2,3,'A')\n",
    "p2=Point(-1,7,'B')\n",
    "p1.distance(p2)"
   ]
  },
  {
   "cell_type": "markdown",
   "metadata": {},
   "source": [
    "C'est quand même bien mieux ! Mais tout n'est pas parfait. Observez ce qui se passe si je veux afficher les coordonnées d'un point. Je peux avoir envie de faire cela :"
   ]
  },
  {
   "cell_type": "code",
   "execution_count": null,
   "metadata": {},
   "outputs": [],
   "source": [
    "print(p1)\n",
    "# beark"
   ]
  },
  {
   "cell_type": "markdown",
   "metadata": {},
   "source": [
    "## A vous de jouer"
   ]
  },
  {
   "cell_type": "markdown",
   "metadata": {},
   "source": [
    "Il existe une autre méthode *magique* - en réalité, il y en a environs 80 - permettant de redéfinir le comportement des opérateurs intégrés à Python. Vous allez créer une méthode nommée ***__str()__*** qui \n",
    "- ne prendra pas d'argument autre que ***self*** bien sur\n",
    "- retournera une chaîne de caractère du type \"A(2;3)\"\n",
    "\n",
    "Pour construire votre chaîne, vous pourrez utiliser la concaténation de chaines de caractères au moyen de l'opérateur +. Regardez l'exemple :"
   ]
  },
  {
   "cell_type": "code",
   "execution_count": null,
   "metadata": {},
   "outputs": [],
   "source": [
    "x,y=2,3\n",
    "chaine=\"A\"+str(x)+\"; etc...\"\n",
    "# etc... vous voyez le principe\n",
    "print(chaine)"
   ]
  },
  {
   "cell_type": "code",
   "execution_count": null,
   "metadata": {
    "deletable": false,
    "nbgrader": {
     "checksum": "88d0a805c1d3ff17fd5ddeddcf837216",
     "grade": false,
     "grade_id": "cell-efec777205086821",
     "locked": false,
     "schema_version": 1,
     "solution": true
    }
   },
   "outputs": [],
   "source": [
    "# A vous de jouer\n",
    "# YOUR CODE HERE\n",
    "raise NotImplementedError()"
   ]
  },
  {
   "cell_type": "code",
   "execution_count": null,
   "metadata": {
    "deletable": false,
    "editable": false,
    "nbgrader": {
     "checksum": "d513edaafb762121a7df230dfa6d9b84",
     "grade": true,
     "grade_id": "cell-42f1b33e41299195",
     "locked": true,
     "points": 0,
     "schema_version": 1,
     "solution": false
    }
   },
   "outputs": [],
   "source": [
    "# Et voila la magie qui s'opère !\n",
    "\n",
    "p1=Point(2,3,'A')\n",
    "print(p1)\n",
    "assert p1.__str__()=='A(2;3)'"
   ]
  },
  {
   "cell_type": "markdown",
   "metadata": {},
   "source": [
    "Et voila, bien venue dans le monde merveilleux des objets.\n",
    "\n",
    "En seconde partie, nous allons prendre un exemple plus sofistiqué sur les polynomes pour approfondir les notions que nous avons introduites dans ce classeur.\n",
    "\n",
    "A bientôt !"
   ]
  },
  {
   "cell_type": "code",
   "execution_count": null,
   "metadata": {},
   "outputs": [],
   "source": []
  }
 ],
 "metadata": {
  "kernelspec": {
   "display_name": "Python 3",
   "language": "python",
   "name": "python3"
  },
  "language_info": {
   "codemirror_mode": {
    "name": "ipython",
    "version": 3
   },
   "file_extension": ".py",
   "mimetype": "text/x-python",
   "name": "python",
   "nbconvert_exporter": "python",
   "pygments_lexer": "ipython3",
   "version": "3.6.7"
  }
 },
 "nbformat": 4,
 "nbformat_minor": 1
}
