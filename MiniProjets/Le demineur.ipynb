{
 "cells": [
  {
   "cell_type": "markdown",
   "metadata": {},
   "source": [
    "# Cours M. Lecluse  - Maths / Informatique\n",
    "\n",
    "Complétez le document ci-dessous. Vous validerez les cellules au fur-à-mesure en prenant le temps de lire attentivement les consignes.\n",
    "\n",
    "Certaines cellules contiennent ce texte :\n",
    "    # YOUR CODE HERE\n",
    "    raise NotImplementedError()\n",
    "Vous **remplacerez** ce contenu par votre propre programme ou fonction afin de répondre au problème posé. Ce code est conçu pour provoquer une erreur si vous ne traitez pas la question.\n",
    "\n",
    "Une fois le document complété, n'oubliez pas de cliquer sur le bouton **submit** dans l'onglet *assignments*.\n",
    "\n",
    "Ce *notebook* peut être considéré comme un cahier interactif. N'hésitez pas à vous l'approprier en ajoutant des cellules de texte ou de code selon vos besoins !"
   ]
  },
  {
   "cell_type": "markdown",
   "metadata": {
    "deletable": false,
    "editable": false,
    "nbgrader": {
     "checksum": "28ffcf030548bc4604415dcddea77576",
     "grade": false,
     "grade_id": "cell-95de0e6d38910d9b",
     "locked": true,
     "schema_version": 1,
     "solution": false
    }
   },
   "source": [
    "# Le démineur"
   ]
  },
  {
   "cell_type": "markdown",
   "metadata": {
    "deletable": false,
    "editable": false,
    "nbgrader": {
     "checksum": "ec0d2d93a1a9d452b2699e428852e02b",
     "grade": false,
     "grade_id": "cell-b169a511ccb3013d",
     "locked": true,
     "schema_version": 1,
     "solution": false
    }
   },
   "source": [
    "## Un tableau à deux dimensions"
   ]
  },
  {
   "cell_type": "markdown",
   "metadata": {
    "deletable": false,
    "editable": false,
    "nbgrader": {
     "checksum": "ec1e0bafe59717931481ee508995f4ba",
     "grade": false,
     "grade_id": "cell-3a31ac1ae6ba2eb9",
     "locked": true,
     "schema_version": 1,
     "solution": false
    }
   },
   "source": [
    "Nous savons qu'il est possible de mettre dans des listes tout type d'objets, et donc pourquoi pas... des listes ! Nous pouvons donc obtenir ainsi des tableaux à deux dimensions. L'exemple suivant montre la création manuelle d'un tableau 3x3."
   ]
  },
  {
   "cell_type": "code",
   "execution_count": null,
   "metadata": {},
   "outputs": [],
   "source": [
    "grille=[[1, 2, 3],[4,5,6], [7,8,9]]\n",
    "grille[0][2]"
   ]
  },
  {
   "cell_type": "markdown",
   "metadata": {
    "deletable": false,
    "editable": false,
    "nbgrader": {
     "checksum": "51f46a1e9610ef1a52e6c49ede1fdcfa",
     "grade": false,
     "grade_id": "cell-4faa04d69bdab231",
     "locked": true,
     "schema_version": 1,
     "solution": false
    }
   },
   "source": [
    "## Construction d'une grille"
   ]
  },
  {
   "cell_type": "markdown",
   "metadata": {
    "deletable": false,
    "editable": false,
    "nbgrader": {
     "checksum": "c452e1db8c6e99e167e421eb533fe9e5",
     "grade": false,
     "grade_id": "cell-19c48acf3d129d52",
     "locked": true,
     "schema_version": 1,
     "solution": false
    }
   },
   "source": [
    "### Construire une ligne"
   ]
  },
  {
   "cell_type": "markdown",
   "metadata": {
    "deletable": false,
    "editable": false,
    "nbgrader": {
     "checksum": "48629e3a1569df3b5e0b580a268ca433",
     "grade": false,
     "grade_id": "cell-a4d0c3b188435924",
     "locked": true,
     "schema_version": 1,
     "solution": false
    }
   },
   "source": [
    "Ecrire une fonction **creer_ligne_0** \n",
    "- prenant en paramètre un nombre $n$\n",
    "- renbvoyant une liste contenant $n$ fois la valeur 0\n",
    "***Conseils*** :\n",
    "- pour initialiser notre ligne, on pourra utiliser une liste vide [ ]\n",
    "- on pourra utiliser une boucle *pour*\n",
    "- on pourra utiliser la méthode **append()** qui permet d'ajouter un élément à la fin d'une liste"
   ]
  },
  {
   "cell_type": "code",
   "execution_count": null,
   "metadata": {
    "deletable": false,
    "nbgrader": {
     "checksum": "2bf2d2d73eba4c05ee44387fce1cded8",
     "grade": false,
     "grade_id": "cell-a2cfa523cd39f52e",
     "locked": false,
     "schema_version": 1,
     "solution": true
    }
   },
   "outputs": [],
   "source": [
    "def creer_ligne_0(n):\n",
    "    # YOUR CODE HERE\n",
    "    raise NotImplementedError()"
   ]
  },
  {
   "cell_type": "markdown",
   "metadata": {
    "deletable": false,
    "editable": false,
    "nbgrader": {
     "checksum": "1354b30a91eaf2d60bfbab0877f4b59c",
     "grade": false,
     "grade_id": "cell-df42586b45fb98f2",
     "locked": true,
     "schema_version": 1,
     "solution": false
    }
   },
   "source": [
    "Vérification : La cellule suivante doit s'exécuter sans erreurs"
   ]
  },
  {
   "cell_type": "code",
   "execution_count": null,
   "metadata": {
    "deletable": false,
    "editable": false,
    "nbgrader": {
     "checksum": "b2e9f0a3594bf3ccb388ececf6811ddf",
     "grade": true,
     "grade_id": "cell-1693725475c767c8",
     "locked": true,
     "points": 1,
     "schema_version": 1,
     "solution": false
    }
   },
   "outputs": [],
   "source": [
    "assert creer_ligne_0(10) == [0, 0, 0, 0, 0, 0, 0, 0, 0, 0]"
   ]
  },
  {
   "cell_type": "markdown",
   "metadata": {
    "deletable": false,
    "editable": false,
    "nbgrader": {
     "checksum": "7d0172175122bf41221d4dd30596c9b9",
     "grade": false,
     "grade_id": "cell-d89cf406b024a1ab",
     "locked": true,
     "schema_version": 1,
     "solution": false
    }
   },
   "source": [
    "On souhaite à présent remplacer quelques 0 aléatoirement par des 1. Fixons la probabilité d'avoir 1 à 0,2. \n",
    "\n",
    "Voici comment mathématiquement nous pouvons obtenir 0 ou 1 avec une probabilité de 0,2 d'avoir 1. Il s'agit ici d'exploiter le fait que la fonction random()+0.2 renvoie un nombre entre 0.2 et 1.2...\n",
    "\n",
    "En validant la cellule ci-dessous plusieurs fois, vous devriez obtenir 1 de temps en temps."
   ]
  },
  {
   "cell_type": "code",
   "execution_count": null,
   "metadata": {
    "deletable": false,
    "editable": false,
    "nbgrader": {
     "checksum": "075443304e16b36481577ac7048c8e6c",
     "grade": false,
     "grade_id": "cell-f1ba9e6cce22c866",
     "locked": true,
     "schema_version": 1,
     "solution": false
    }
   },
   "outputs": [],
   "source": [
    "from random import *\n",
    "\n",
    "p=0.2\n",
    "print(int(random()+p))"
   ]
  },
  {
   "cell_type": "markdown",
   "metadata": {
    "deletable": false,
    "editable": false,
    "nbgrader": {
     "checksum": "5c15b558e81b6b628f5784d83f315987",
     "grade": false,
     "grade_id": "cell-cd511fbeda8eea23",
     "locked": true,
     "schema_version": 1,
     "solution": false
    }
   },
   "source": [
    "A présent, utilisez cette astuce de calcul pour créer une fonction **creer_ligne**\n",
    "- prenant en paramètres deux nombres $n$ et $p$\n",
    "- renvoyant une liste de longueur $n$ formée de 0 et de 1 où 1 apparaît avec la probabilité $p$."
   ]
  },
  {
   "cell_type": "code",
   "execution_count": null,
   "metadata": {
    "deletable": false,
    "nbgrader": {
     "checksum": "5366bec037ac39e3120e3db90f326134",
     "grade": false,
     "grade_id": "cell-4dd9e0eaf294bce4",
     "locked": false,
     "schema_version": 1,
     "solution": true
    }
   },
   "outputs": [],
   "source": [
    "from random import random\n",
    "def creer_ligne(n,p):\n",
    "    # YOUR CODE HERE\n",
    "    raise NotImplementedError()"
   ]
  },
  {
   "cell_type": "markdown",
   "metadata": {
    "deletable": false,
    "editable": false,
    "nbgrader": {
     "checksum": "9b9a9281b1725e0b8c62ea5e6cdeadaf",
     "grade": false,
     "grade_id": "cell-17d1858f57eb6eec",
     "locked": true,
     "schema_version": 1,
     "solution": false
    }
   },
   "source": [
    "Vérification : La cellule suivante doit s'exécuter sans erreurs"
   ]
  },
  {
   "cell_type": "code",
   "execution_count": null,
   "metadata": {
    "deletable": false,
    "editable": false,
    "nbgrader": {
     "checksum": "308a8b8152cb37736576e3da49b63480",
     "grade": true,
     "grade_id": "cell-710829ed31a6d7cc",
     "locked": true,
     "points": 1,
     "schema_version": 1,
     "solution": false
    }
   },
   "outputs": [],
   "source": [
    "assert 175<=creer_ligne(1000,0.2).count(1)<=225"
   ]
  },
  {
   "cell_type": "markdown",
   "metadata": {
    "deletable": false,
    "editable": false,
    "nbgrader": {
     "checksum": "48a499fbe77a1366fe3b165c7517e7be",
     "grade": false,
     "grade_id": "cell-602f7f1fbf64f5ec",
     "locked": true,
     "schema_version": 1,
     "solution": false
    }
   },
   "source": [
    "## construire une grille"
   ]
  },
  {
   "cell_type": "markdown",
   "metadata": {
    "deletable": false,
    "editable": false,
    "nbgrader": {
     "checksum": "e703c0bfe3a74d7e6c8d739deb0e9ff2",
     "grade": false,
     "grade_id": "cell-ffde10ee1b71bb94",
     "locked": true,
     "schema_version": 1,
     "solution": false
    }
   },
   "source": [
    "Une grille - ou un tableau à deux dimensions - est en réalité une liste de lignes. Chaque ligne est construite selon le même procédé que celui utilisé ci-dessus.\n",
    "\n",
    "Pour construire notre grille, nous allons donc construire une liste de $n$ éléments mais au lieu de mettre 0 ou 1, nous mettrons une ligne que nous construirons à l'aide de la fonction **creer_ligne**.\n",
    "\n",
    "Ecrire une fonction **creer_grille**\n",
    "- prenant en paramètre un nombre $n$ et une probabilité $$\n",
    "- renvoyant une grille $n\\times n$ où 1 apparaît avec une probabilité p\n",
    "L'appel creer_grille(10,0.2) renverra quelque chose du genre :\n",
    "<pre>\n",
    "    [[0, 0, 0, 0, 0, 0, 1, 0, 0, 0],\n",
    "     [1, 0, 0, 0, 0, 0, 1, 0, 1, 0],\n",
    "     [0, 0, 0, 0, 0, 0, 0, 0, 0, 0],\n",
    "     [0, 0, 0, 0, 0, 0, 0, 0, 0, 0],\n",
    "     [0, 0, 0, 0, 0, 1, 0, 1, 0, 1],\n",
    "     [0, 0, 0, 0, 0, 0, 0, 0, 0, 0],\n",
    "     [1, 0, 0, 0, 0, 0, 0, 1, 0, 0],\n",
    "     [0, 0, 1, 0, 0, 0, 0, 0, 0, 0],\n",
    "     [0, 0, 1, 0, 0, 0, 1, 0, 0, 0],\n",
    "     [0, 0, 0, 0, 0, 1, 0, 0, 0, 1]]\n",
    "</pre>"
   ]
  },
  {
   "cell_type": "code",
   "execution_count": null,
   "metadata": {
    "deletable": false,
    "nbgrader": {
     "checksum": "29666fa43c9b536f9d4e8e41cc7a4e30",
     "grade": false,
     "grade_id": "cell-d7d9bf05f1699299",
     "locked": false,
     "schema_version": 1,
     "solution": true
    }
   },
   "outputs": [],
   "source": [
    "def creer_grille(n,p):\n",
    "    # YOUR CODE HERE\n",
    "    raise NotImplementedError()"
   ]
  },
  {
   "cell_type": "markdown",
   "metadata": {
    "deletable": false,
    "editable": false,
    "nbgrader": {
     "checksum": "f8167837b082254c3e49f8d1e1d37dfb",
     "grade": false,
     "grade_id": "cell-1bb21681728f08fb",
     "locked": true,
     "schema_version": 1,
     "solution": false
    }
   },
   "source": [
    "Vérification : La cellule suivante doit afficher quelque chose ressemblant à ceci :\n",
    "\n",
    "    [[0, 0, 0, 0, 0, 0, 1, 0, 0, 0],\n",
    "     [1, 0, 0, 0, 0, 0, 1, 0, 1, 0],\n",
    "     [0, 0, 0, 0, 0, 0, 0, 0, 0, 0],\n",
    "     [0, 0, 0, 0, 0, 0, 0, 0, 0, 0],\n",
    "     [0, 0, 0, 0, 0, 1, 0, 1, 0, 1],\n",
    "     [0, 0, 0, 0, 0, 0, 0, 0, 0, 0],\n",
    "     [1, 0, 0, 0, 0, 0, 0, 1, 0, 0],\n",
    "     [0, 0, 1, 0, 0, 0, 0, 0, 0, 0],\n",
    "     [0, 0, 1, 0, 0, 0, 1, 0, 0, 0],\n",
    "     [0, 0, 0, 0, 0, 1, 0, 0, 0, 1]]"
   ]
  },
  {
   "cell_type": "code",
   "execution_count": null,
   "metadata": {
    "deletable": false,
    "editable": false,
    "nbgrader": {
     "checksum": "b0a7f60cb4e0eba986bc22eebf8cef28",
     "grade": false,
     "grade_id": "cell-d595061b2c2258b4",
     "locked": true,
     "schema_version": 1,
     "solution": false
    }
   },
   "outputs": [],
   "source": [
    "# Vérification :\n",
    "creer_grille(10,0.2)"
   ]
  },
  {
   "cell_type": "markdown",
   "metadata": {
    "deletable": false,
    "editable": false,
    "nbgrader": {
     "checksum": "4738f62b0202612fb792d58ab9460eff",
     "grade": false,
     "grade_id": "cell-51a8ef597af10d5e",
     "locked": true,
     "schema_version": 1,
     "solution": false
    }
   },
   "source": [
    "Félicitations votre grille est créée !"
   ]
  },
  {
   "cell_type": "markdown",
   "metadata": {
    "deletable": false,
    "editable": false,
    "nbgrader": {
     "checksum": "f0720797740788dbf1557c7767863903",
     "grade": false,
     "grade_id": "cell-dbb8027607b7ee11",
     "locked": true,
     "schema_version": 1,
     "solution": false
    }
   },
   "source": [
    "## Jouer un coup"
   ]
  },
  {
   "cell_type": "markdown",
   "metadata": {
    "deletable": false,
    "editable": false,
    "nbgrader": {
     "checksum": "f81af780cc306fc98945363ab40367c7",
     "grade": false,
     "grade_id": "cell-f193dda4d359b1c7",
     "locked": true,
     "schema_version": 1,
     "solution": false
    }
   },
   "source": [
    "Créer une fonction **jouer_coup**\n",
    "- prenant en paramètre une grille, un indice de ligne et un indice de colone\n",
    "- renvoyant False si on est tombé sur une bombe\n",
    "- dans le cas contraire, un \"2\" sera placé à l'emplacement joué et on renverra True\n",
    "\n",
    "- Pour faire un test comportant un *sinon ... si*, on pourra utiliser la structure Python suivante :  \n",
    "        if condition :\n",
    "            bloc d'instructions à réaliser\n",
    "            si condition est vraie\n",
    "        else :\n",
    "            bloc d'instructions à réaliser\n",
    "            si aucune condition n'est vraie\n",
    "- l'accès à l'élément de la grille à la colonne ***c*** et la ligne ***l*** se fait par \n",
    "        grille[l][c]"
   ]
  },
  {
   "cell_type": "code",
   "execution_count": null,
   "metadata": {
    "deletable": false,
    "nbgrader": {
     "checksum": "3a017e100d5bd6c095acefa85567f0c8",
     "grade": false,
     "grade_id": "cell-5c0ffc354803c8c8",
     "locked": false,
     "schema_version": 1,
     "solution": true
    }
   },
   "outputs": [],
   "source": [
    "def jouer_coup(grille, ligne, col):\n",
    "    # YOUR CODE HERE\n",
    "    raise NotImplementedError()"
   ]
  },
  {
   "cell_type": "markdown",
   "metadata": {
    "deletable": false,
    "editable": false,
    "nbgrader": {
     "checksum": "891fe2744238f262360a53dd1161368a",
     "grade": false,
     "grade_id": "cell-c2baae94dacc6e0b",
     "locked": true,
     "schema_version": 1,
     "solution": false
    }
   },
   "source": [
    "Vérifiez en validant la cellule ci-dessous que des 2 ont bien été positionnés sur les cellules découvertes"
   ]
  },
  {
   "cell_type": "code",
   "execution_count": null,
   "metadata": {
    "deletable": false,
    "editable": false,
    "nbgrader": {
     "checksum": "c57cbb02a0bae3fece2137a5a30730de",
     "grade": true,
     "grade_id": "cell-cfb59bb76f6a8f5d",
     "locked": true,
     "points": 1,
     "schema_version": 1,
     "solution": false
    }
   },
   "outputs": [],
   "source": [
    "grille = [[0,1],[1,0]]\n",
    "assert jouer_coup(grille,1,1) == True\n",
    "assert grille == [[0,1],[1,2]]\n",
    "assert jouer_coup(grille,0,1) == False"
   ]
  },
  {
   "cell_type": "markdown",
   "metadata": {
    "deletable": false,
    "editable": false,
    "nbgrader": {
     "checksum": "ab544ce70ff998779116bbea302a96bd",
     "grade": false,
     "grade_id": "cell-aa66c4404111bba6",
     "locked": true,
     "schema_version": 1,
     "solution": false
    }
   },
   "source": [
    "## Nombre de cases libres\n",
    "\n",
    "Ecrire une fonction **cases_libres**\n",
    "- prenant en paramètre une grille\n",
    "- renvoyant le nombre de cases libres (0) dans la grille. \n",
    "\n",
    "Une bombe ou un coup joué n'est pas considéré comme case libre."
   ]
  },
  {
   "cell_type": "code",
   "execution_count": null,
   "metadata": {
    "deletable": false,
    "nbgrader": {
     "checksum": "e9cdd0b6ec604714721b0662cc5a8b55",
     "grade": false,
     "grade_id": "cell-0f352a4e32ef2d7a",
     "locked": false,
     "schema_version": 1,
     "solution": true
    }
   },
   "outputs": [],
   "source": [
    "def cases_libres(grille):\n",
    "    # YOUR CODE HERE\n",
    "    raise NotImplementedError()"
   ]
  },
  {
   "cell_type": "code",
   "execution_count": null,
   "metadata": {
    "deletable": false,
    "editable": false,
    "nbgrader": {
     "checksum": "ad8da86c1cb070f55cef9b6280cc8307",
     "grade": true,
     "grade_id": "cell-cb8f9f431d7875d5",
     "locked": true,
     "points": 1,
     "schema_version": 1,
     "solution": false
    }
   },
   "outputs": [],
   "source": [
    "grille=[[0, 2, 0], [1, 0, 0], [0, 0, 0]]\n",
    "assert cases_libres(grille) == 7"
   ]
  },
  {
   "cell_type": "markdown",
   "metadata": {
    "deletable": false,
    "editable": false,
    "nbgrader": {
     "checksum": "8173be0d98b7d0ed8321048885dc3b4d",
     "grade": false,
     "grade_id": "cell-ac412007bdfba086",
     "locked": true,
     "schema_version": 1,
     "solution": false
    }
   },
   "source": [
    "## Nombre de bombes alentours\n",
    "\n",
    "Ecrire une fonction **bombes_autour**\n",
    "- prenant en paramètre une grille, un indice de ligne et un indice de colone\n",
    "- renvoyant le nombre de bombes dans les cases adjacentes. \n",
    "\n",
    "Si une bombe est présente sur la case indiquée, celle-ci n'est pas comptabilisée.\n",
    "\n",
    "***Attention*** aux indices afin de ne pas dépasser des limites de la grille ! Pour tester si un nombre est compris entre 2 valeurs, on pourra utiliser la syntaxe suivante : \n",
    "        \n",
    "        if 0 <= x < n :\n",
    "            blablabla"
   ]
  },
  {
   "cell_type": "code",
   "execution_count": null,
   "metadata": {
    "deletable": false,
    "nbgrader": {
     "checksum": "dad4963d6c3244587d0172e948daa79a",
     "grade": false,
     "grade_id": "cell-a61f148d74db30f3",
     "locked": false,
     "schema_version": 1,
     "solution": true
    }
   },
   "outputs": [],
   "source": [
    "def bombes_autour(grille, ligne, col):\n",
    "    # YOUR CODE HERE\n",
    "    raise NotImplementedError()"
   ]
  },
  {
   "cell_type": "code",
   "execution_count": null,
   "metadata": {
    "deletable": false,
    "editable": false,
    "nbgrader": {
     "checksum": "cc497e3bc6facb4f2b34c574a43114e2",
     "grade": true,
     "grade_id": "cell-32af17474919b497",
     "locked": true,
     "points": 1,
     "schema_version": 1,
     "solution": false
    }
   },
   "outputs": [],
   "source": [
    "grille=[[0, 0, 0], [1, 0, 0], [0, 0, 0]]\n",
    "assert bombes_autour(grille,2,2) == 0\n",
    "assert bombes_autour(grille,1,1) == 1"
   ]
  },
  {
   "cell_type": "markdown",
   "metadata": {
    "deletable": false,
    "editable": false,
    "nbgrader": {
     "checksum": "8e562556b880e66109b1aa40c185d3c4",
     "grade": false,
     "grade_id": "cell-bdeee775508d05d4",
     "locked": true,
     "schema_version": 1,
     "solution": false
    }
   },
   "source": [
    "## Afficher une grille\n",
    "\n",
    "Ecrire une fonction **afficher_grille**\n",
    "- prenant en paramètre une grille\n",
    "- affichant la grille avec le format suivant :\n",
    "    - si une case a été découverte, on affiche le nombre de bombes alentours\n",
    "    - si une case n'a pas été découverte ou qu'elle contient une bombe on affiche \".\"\n",
    "\n",
    "***Indication*** On pourra observer la cellule suivante afin pour voir comment afficher des informations avec **print**\n",
    "\n",
    "Exemple : voici une grille simple et l'affichage attendu\n",
    "\n",
    "    [[0, 2, 0],        . 1 .\n",
    "     [1, 2, 0],   ==>  . 1 .\n",
    "     [0, 0, 2]]        . . 0\n"
   ]
  },
  {
   "cell_type": "code",
   "execution_count": null,
   "metadata": {
    "deletable": false,
    "editable": false,
    "nbgrader": {
     "checksum": "82c1673fa7201c5cacc9f5c0c291f8c5",
     "grade": false,
     "grade_id": "cell-856fc846fb06d1b4",
     "locked": true,
     "schema_version": 1,
     "solution": false
    }
   },
   "outputs": [],
   "source": [
    "print(\"Hello \",end=\" \")\n",
    "print(\"World\")\n",
    "print(\"Sans le paramètre end, je retourne à la ligne\")"
   ]
  },
  {
   "cell_type": "code",
   "execution_count": null,
   "metadata": {
    "deletable": false,
    "nbgrader": {
     "checksum": "4df46ca910ba59c611c4740804f5aa33",
     "grade": false,
     "grade_id": "cell-86e6bb5390ae0c9d",
     "locked": false,
     "schema_version": 1,
     "solution": true
    }
   },
   "outputs": [],
   "source": [
    "def afficher_grille(grille):\n",
    "    # YOUR CODE HERE\n",
    "    raise NotImplementedError()"
   ]
  },
  {
   "cell_type": "code",
   "execution_count": null,
   "metadata": {
    "deletable": false,
    "editable": false,
    "nbgrader": {
     "checksum": "e3c50b20d8898482b89048fc3814936c",
     "grade": false,
     "grade_id": "cell-727800d3152fd98a",
     "locked": true,
     "schema_version": 1,
     "solution": false
    }
   },
   "outputs": [],
   "source": [
    "# Testez vous-même votre fonction sur l'exemple donné\n",
    "\n",
    "grille = [[0, 2, 0], [1, 2, 0], [0, 0, 2]]\n",
    "afficher_grille(grille)"
   ]
  },
  {
   "cell_type": "markdown",
   "metadata": {
    "deletable": false,
    "editable": false,
    "nbgrader": {
     "checksum": "94d714eb13892e543f766c390dd403bc",
     "grade": false,
     "grade_id": "cell-d0b37a618d0dd21c",
     "locked": true,
     "schema_version": 1,
     "solution": false
    }
   },
   "source": [
    "## Jouer une partie"
   ]
  },
  {
   "cell_type": "markdown",
   "metadata": {
    "deletable": false,
    "editable": false,
    "nbgrader": {
     "checksum": "2d2ee054bfc2e281bf3b679aa50cafa4",
     "grade": false,
     "grade_id": "cell-8005326345084ea3",
     "locked": true,
     "schema_version": 1,
     "solution": false
    }
   },
   "source": [
    "Ecrire une fonction **jouer** \n",
    "- qui prend en paramètres une grille, un indice de ligne et un indice de colonne\n",
    "- qui joue le coup indiqué et affiche la grille résultante\n",
    "- qui renvoie \n",
    "        - -1 si on tombe sur une bombe\n",
    "        - 0 si il ne reste plus de case à découvrir\n",
    "        - le nombre de cases restant à découvrir (hors bombes) sinon"
   ]
  },
  {
   "cell_type": "code",
   "execution_count": null,
   "metadata": {
    "deletable": false,
    "nbgrader": {
     "checksum": "ac9ccec3b1b2fce63152a11bd39e121c",
     "grade": false,
     "grade_id": "cell-7a24a69fbdf045a5",
     "locked": false,
     "schema_version": 1,
     "solution": true
    }
   },
   "outputs": [],
   "source": [
    "def jouer(grille,ligne, col):\n",
    "    # YOUR CODE HERE\n",
    "    raise NotImplementedError()"
   ]
  },
  {
   "cell_type": "code",
   "execution_count": null,
   "metadata": {
    "deletable": false,
    "editable": false,
    "nbgrader": {
     "checksum": "c6bb7ab3ad5986fd2e28d83492817860",
     "grade": true,
     "grade_id": "cell-9071d49a484d8ddf",
     "locked": true,
     "points": 1,
     "schema_version": 1,
     "solution": false
    }
   },
   "outputs": [],
   "source": [
    "grille = [[0, 2, 0], [1, 2, 0], [0, 0, 2]]\n",
    "assert jouer(grille,0,0) == 4\n",
    "assert jouer(grille, 1,0) == -1"
   ]
  },
  {
   "cell_type": "code",
   "execution_count": null,
   "metadata": {},
   "outputs": [],
   "source": [
    "# Dérouler une partie\n",
    "grille = creer_grille(10, 0.2)\n",
    "\n",
    "jouer(grille,5,5)"
   ]
  },
  {
   "cell_type": "code",
   "execution_count": null,
   "metadata": {},
   "outputs": [],
   "source": [
    "jouer(grille,0,0)"
   ]
  },
  {
   "cell_type": "code",
   "execution_count": null,
   "metadata": {},
   "outputs": [],
   "source": [
    "jouer(grille,9,9)"
   ]
  },
  {
   "cell_type": "code",
   "execution_count": null,
   "metadata": {},
   "outputs": [],
   "source": [
    "grille"
   ]
  },
  {
   "cell_type": "code",
   "execution_count": null,
   "metadata": {},
   "outputs": [],
   "source": []
  }
 ],
 "metadata": {
  "kernelspec": {
   "display_name": "Python 3",
   "language": "python",
   "name": "python3"
  },
  "language_info": {
   "codemirror_mode": {
    "name": "ipython",
    "version": 3
   },
   "file_extension": ".py",
   "mimetype": "text/x-python",
   "name": "python",
   "nbconvert_exporter": "python",
   "pygments_lexer": "ipython3",
   "version": "3.6.7"
  }
 },
 "nbformat": 4,
 "nbformat_minor": 1
}
