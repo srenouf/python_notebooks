{
 "cells": [
  {
   "cell_type": "markdown",
   "metadata": {},
   "source": [
    "# Cours M. Lecluse  - Maths / Informatique\n",
    "\n",
    "Complétez le document ci-dessous. Vous validerez les cellules au fur-à-mesure en prenant le temps de lire attentivement les consignes.\n",
    "\n",
    "Certaines cellules contiennent ce texte :\n",
    "    # YOUR CODE HERE\n",
    "    raise NotImplementedError()\n",
    "Vous **remplacerez** ce contenu par votre propre programme ou fonction afin de répondre au problème posé. Ce code est conçu pour provoquer une erreur si vous ne traitez pas la question.\n",
    "\n",
    "Une fois le document complété, n'oubliez pas de cliquer sur le bouton **submit** dans l'onglet *assignments*.\n",
    "\n",
    "Ce *notebook* peut être considéré comme un cahier interactif. N'hésitez pas à vous l'approprier en ajoutant des cellules de texte ou de code selon vos besoins !"
   ]
  },
  {
   "cell_type": "markdown",
   "metadata": {
    "deletable": false,
    "editable": false,
    "nbgrader": {
     "checksum": "3d79e2a320b7b61da72ce8383681a88a",
     "grade": false,
     "grade_id": "cell-0b5deed15b5ff686",
     "locked": true,
     "schema_version": 1,
     "solution": false
    }
   },
   "source": [
    "# Le pendu\n",
    "\n",
    "Dans ce classeur, vous serez guidé pas à pas pour réaliser un début de jeu de pendu en mode texte.\n",
    "\n",
    "## Préparation du jeu\n",
    "\n",
    "Pour commencer, nous allons créer un dictionnaire en chargeant une liste de mots figurant dans un fichier texte.\n",
    "\n",
    "L'import d'un fichier texte dans une liste se fait facilement en Python :"
   ]
  },
  {
   "cell_type": "code",
   "execution_count": null,
   "metadata": {
    "deletable": false,
    "editable": false,
    "nbgrader": {
     "checksum": "c0bce3c62cfbe52e0b04e1700b4b5ff1",
     "grade": false,
     "grade_id": "cell-687cbab81fae3c92",
     "locked": true,
     "schema_version": 1,
     "solution": false
    }
   },
   "outputs": [],
   "source": [
    "liste_mots = []\n",
    "with open(\"liste_mots.txt\",\"r\") as fichier:\n",
    "    liste_mots = fichier.readlines()\n",
    "\n",
    "len(liste_mots)"
   ]
  },
  {
   "cell_type": "markdown",
   "metadata": {
    "deletable": false,
    "editable": false,
    "nbgrader": {
     "checksum": "3942f80673f53b48c1ad92428b87f445",
     "grade": false,
     "grade_id": "cell-61ebd0dfe0b0b111",
     "locked": true,
     "schema_version": 1,
     "solution": false
    }
   },
   "source": [
    "Pour choisir un mot aléatoire dans cette liste, nous utiliserons la fonction choice du module random.\n",
    "\n",
    "Le mot choisi contient un caractère de fin de ligne parasite (\\n) que nous éliminerons grâce au *slicing* : on garde tous les caractères depuis le début jusqu'au dernier, exclu.\n",
    "\n",
    "Exécutez plusieurs fois la cellule ci-dessous pour voir les différents choix de mots aléatoires."
   ]
  },
  {
   "cell_type": "code",
   "execution_count": null,
   "metadata": {
    "deletable": false,
    "editable": false,
    "nbgrader": {
     "checksum": "e2b74c365e7f89241efe56678d238d5e",
     "grade": false,
     "grade_id": "cell-a63fc34f561a7282",
     "locked": true,
     "schema_version": 1,
     "solution": false
    }
   },
   "outputs": [],
   "source": [
    "from random import choice\n",
    "\n",
    "mot_inconnu = choice(liste_mots)[:-1]\n",
    "\n",
    "mot_inconnu"
   ]
  },
  {
   "cell_type": "markdown",
   "metadata": {
    "deletable": false,
    "editable": false,
    "nbgrader": {
     "checksum": "06eb8610384b6c17169b9b857e953de8",
     "grade": false,
     "grade_id": "cell-020e090e4dd23c63",
     "locked": true,
     "schema_version": 1,
     "solution": false
    }
   },
   "source": [
    "## Développement des différentes fonctions utiles au jeu\n",
    "\n",
    "Créez une fonction **masque** prenant en paramètre un mot et renvoyant une chaîne masquée contenant autant de '-' qu'il y a de lettres dans le mot.\n",
    "\n",
    "Par exemple : *masque('python')* renvoie *'------'*"
   ]
  },
  {
   "cell_type": "code",
   "execution_count": null,
   "metadata": {
    "deletable": false,
    "nbgrader": {
     "checksum": "23cb2f346ecbe4ea468f6263aadbab48",
     "grade": false,
     "grade_id": "cell-7c95ec7ae773c1ad",
     "locked": false,
     "schema_version": 1,
     "solution": true
    }
   },
   "outputs": [],
   "source": [
    "def masque(mot):\n",
    "    # YOUR CODE HERE\n",
    "    raise NotImplementedError()"
   ]
  },
  {
   "cell_type": "code",
   "execution_count": null,
   "metadata": {
    "deletable": false,
    "editable": false,
    "nbgrader": {
     "checksum": "581ffbe9a0dea5a6220dda984948f06a",
     "grade": true,
     "grade_id": "cell-f1caa2e890016f80",
     "locked": true,
     "points": 1,
     "schema_version": 1,
     "solution": false
    }
   },
   "outputs": [],
   "source": [
    "assert masque('python') == '------'"
   ]
  },
  {
   "cell_type": "markdown",
   "metadata": {
    "deletable": false,
    "editable": false,
    "nbgrader": {
     "checksum": "45063bbc68a27d9d1d1530fc8bcb7ada",
     "grade": false,
     "grade_id": "cell-071d7b60184df183",
     "locked": true,
     "schema_version": 1,
     "solution": false
    }
   },
   "source": [
    "Créez une fonction **devine** prenant en paramètres\n",
    "- le mot inconnu\n",
    "- le mot masqué\n",
    "- une lettre\n",
    "et renvoyant le masque dans lequel la lettre proposée apparaît à toutes les places où celle-ci est présente dans le mot.\n",
    "\n",
    "Exemple : *devine('python','p----n','t')* renvoie *'p-t--n'*"
   ]
  },
  {
   "cell_type": "code",
   "execution_count": null,
   "metadata": {
    "deletable": false,
    "nbgrader": {
     "checksum": "2fabb6e7ed8ae61357f4ae7315c84b27",
     "grade": false,
     "grade_id": "cell-2e1dbf09c6486dca",
     "locked": false,
     "schema_version": 1,
     "solution": true
    }
   },
   "outputs": [],
   "source": [
    "def devine(mot, mot_masque, lettre):\n",
    "    # YOUR CODE HERE\n",
    "    raise NotImplementedError()"
   ]
  },
  {
   "cell_type": "code",
   "execution_count": null,
   "metadata": {
    "deletable": false,
    "editable": false,
    "nbgrader": {
     "checksum": "8ab49f193879a2ecdd9c0d6130826cc6",
     "grade": true,
     "grade_id": "cell-be7c5e70c0524f72",
     "locked": true,
     "points": 1,
     "schema_version": 1,
     "solution": false
    }
   },
   "outputs": [],
   "source": [
    "assert devine('python','p----n','t') == 'p-t--n'"
   ]
  },
  {
   "cell_type": "markdown",
   "metadata": {
    "deletable": false,
    "editable": false,
    "nbgrader": {
     "checksum": "a3e360afe6688b86a63151e3eabb09a1",
     "grade": false,
     "grade_id": "cell-66d17babf7cd82af",
     "locked": true,
     "schema_version": 1,
     "solution": false
    }
   },
   "source": [
    "## Jouer une partie\n",
    "\n",
    "Nous disposons à présent des fonctions nécessaires pour jouer une partie. Il ne nous reste donc plus qu'à réaliser la fonction **jouer** qui \n",
    "- prend en paramètre une lettre ainsi qu'une liste contenant\n",
    "    - le mot à deviner\n",
    "    - le mot masqué (ou partiellement découvert)\n",
    "    - le nb d'erreurs réalisées\n",
    "- renvoie la liste actualisée (avec le mot masqué ou le nombre d'erreurs)\n",
    "\n",
    "**Exemples** : \n",
    "- jouer('a', [\"python\", \"------\",0]) renvoie [\"python\", \"------\",1] car on a une erreur\n",
    "- jouer('p', [\"python\", \"------\",0]) renvoie [\"python\", \"p-----\",1] "
   ]
  },
  {
   "cell_type": "code",
   "execution_count": null,
   "metadata": {
    "deletable": false,
    "nbgrader": {
     "checksum": "b32e57e3f4494395d60c9f000848743d",
     "grade": false,
     "grade_id": "cell-e495f659e8e21947",
     "locked": false,
     "schema_version": 1,
     "solution": true
    }
   },
   "outputs": [],
   "source": [
    "def jouer(lettre, etat):\n",
    "    # YOUR CODE HERE\n",
    "    raise NotImplementedError()"
   ]
  },
  {
   "cell_type": "code",
   "execution_count": null,
   "metadata": {
    "deletable": false,
    "editable": false,
    "nbgrader": {
     "checksum": "7429c3071d3da99782c0b9714453bb2a",
     "grade": true,
     "grade_id": "cell-0dc4e4fb759c2250",
     "locked": true,
     "points": 0,
     "schema_version": 1,
     "solution": false
    }
   },
   "outputs": [],
   "source": [
    "mot = \"python\"\n",
    "mask = masque(mot)\n",
    "nb_err = 0\n",
    "\n",
    "assert jouer(\"a\", [mot, mask, nb_err]) == ['python', '------', 1]\n",
    "assert jouer(\"p\", [mot, mask, nb_err]) == ['python', 'p-----', 0]"
   ]
  },
  {
   "cell_type": "code",
   "execution_count": null,
   "metadata": {},
   "outputs": [],
   "source": [
    "mot = \"python\"\n",
    "etat = [mot, masque(mot),0]\n",
    "etat = jouer(\"a\", [mot, mask, nb_err])\n",
    "etat"
   ]
  },
  {
   "cell_type": "code",
   "execution_count": null,
   "metadata": {},
   "outputs": [],
   "source": [
    "etat = jouer(\"p\", etat)\n",
    "etat"
   ]
  },
  {
   "cell_type": "code",
   "execution_count": null,
   "metadata": {},
   "outputs": [],
   "source": [
    "etat = jouer(\"u\", etat)\n",
    "etat"
   ]
  },
  {
   "cell_type": "code",
   "execution_count": null,
   "metadata": {},
   "outputs": [],
   "source": [
    "etat = jouer(\"n\", etat)\n",
    "etat"
   ]
  },
  {
   "cell_type": "code",
   "execution_count": null,
   "metadata": {},
   "outputs": [],
   "source": [
    "etat = jouer(\"y\", etat)\n",
    "etat"
   ]
  },
  {
   "cell_type": "code",
   "execution_count": null,
   "metadata": {},
   "outputs": [],
   "source": [
    "etat = jouer(\"t\", etat)\n",
    "etat"
   ]
  },
  {
   "cell_type": "code",
   "execution_count": null,
   "metadata": {},
   "outputs": [],
   "source": [
    "etat = jouer(\"o\", etat)\n",
    "etat"
   ]
  },
  {
   "cell_type": "code",
   "execution_count": null,
   "metadata": {},
   "outputs": [],
   "source": [
    "etat = jouer(\"h\", etat)\n",
    "etat"
   ]
  },
  {
   "cell_type": "code",
   "execution_count": null,
   "metadata": {},
   "outputs": [],
   "source": []
  }
 ],
 "metadata": {
  "kernelspec": {
   "display_name": "Python 3",
   "language": "python",
   "name": "python3"
  },
  "language_info": {
   "codemirror_mode": {
    "name": "ipython",
    "version": 3
   },
   "file_extension": ".py",
   "mimetype": "text/x-python",
   "name": "python",
   "nbconvert_exporter": "python",
   "pygments_lexer": "ipython3",
   "version": "3.6.7"
  }
 },
 "nbformat": 4,
 "nbformat_minor": 2
}
