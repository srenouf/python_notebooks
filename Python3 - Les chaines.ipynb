{
 "cells": [
  {
   "cell_type": "markdown",
   "metadata": {},
   "source": [
    "# Cours M. Lecluse  - Maths / Informatique\n",
    "\n",
    "Complétez le document ci-dessous. Vous validerez les cellules au fur-à-mesure en prenant le temps de lire attentivement les consignes.\n",
    "\n",
    "Certaines cellules contiennent ce texte :\n",
    "    # YOUR CODE HERE\n",
    "    raise NotImplementedError()\n",
    "Vous **remplacerez** ce contenu par votre propre programme ou fonction afin de répondre au problème posé. Ce code est conçu pour provoquer une erreur si vous ne traitez pas la question.\n",
    "\n",
    "Une fois le document complété, n'oubliez pas de cliquer sur le bouton **submit** dans l'onglet *assignments*.\n",
    "\n",
    "Ce *notebook* peut être considéré comme un cahier interactif. N'hésitez pas à vous l'approprier en ajoutant des cellules de texte ou de code selon vos besoins !"
   ]
  },
  {
   "cell_type": "markdown",
   "metadata": {
    "deletable": false,
    "editable": false,
    "nbgrader": {
     "checksum": "36ea17bfe8a74216c743afdd075b87d3",
     "grade": false,
     "grade_id": "cell-2bd65160c21d29ed",
     "locked": true,
     "schema_version": 1,
     "solution": false
    }
   },
   "source": [
    "# Les chaines de caracteres\n",
    "\n",
    "## Qu'est-ce qu'une chaîne.\n",
    "\n",
    "Une chaîne de caractères est une liste particulière ne contenant que des caractères. Elle est délimitée par des guillemets (simples 'machaine' ou doubles \"machaine\").\n",
    "\n",
    "Comme pour une liste, on peut accéder à ses éléments (les caractères) en spécifiant un indice :"
   ]
  },
  {
   "cell_type": "code",
   "execution_count": null,
   "metadata": {
    "deletable": false,
    "editable": false,
    "nbgrader": {
     "checksum": "9e22cd71991d90aa2aaa4ca79620e545",
     "grade": false,
     "grade_id": "cell-671e41d0681eecdf",
     "locked": true,
     "schema_version": 1,
     "solution": false
    }
   },
   "outputs": [],
   "source": [
    "chaine = \"Lycée Salvador Allende\"\n",
    "chaine[0]"
   ]
  },
  {
   "cell_type": "markdown",
   "metadata": {},
   "source": [
    "Par contre, il est impossible de modifier une chaîne de caractères ! On dit alors qu'il s'agit d'une liste *non mutable* :"
   ]
  },
  {
   "cell_type": "code",
   "execution_count": null,
   "metadata": {
    "deletable": false,
    "editable": false,
    "nbgrader": {
     "checksum": "d5ee777e1e17a9204cbebf8dcb35e6d7",
     "grade": false,
     "grade_id": "cell-e020c7ec87ec1709",
     "locked": true,
     "schema_version": 1,
     "solution": false
    }
   },
   "outputs": [],
   "source": [
    "chaine[1]= \"a\""
   ]
  },
  {
   "cell_type": "markdown",
   "metadata": {
    "deletable": false,
    "editable": false,
    "nbgrader": {
     "checksum": "70669fd60c6a9f1d42a399e4f4ce2750",
     "grade": false,
     "grade_id": "cell-92348a67a12f4a86",
     "locked": true,
     "schema_version": 1,
     "solution": false
    }
   },
   "source": [
    "Si vous décidiez de lui ajouter des caractères en fin de chaîne à l'aide d'une concaténation du type suivant :"
   ]
  },
  {
   "cell_type": "code",
   "execution_count": null,
   "metadata": {
    "deletable": false,
    "editable": false,
    "nbgrader": {
     "checksum": "31bf105792af492dc0a115b83f8fac3f",
     "grade": false,
     "grade_id": "cell-7816e5443af6102b",
     "locked": true,
     "schema_version": 1,
     "solution": false
    }
   },
   "outputs": [],
   "source": [
    "chaine = chaine+\" - Hérouville saint clair\"\n",
    "chaine"
   ]
  },
  {
   "cell_type": "markdown",
   "metadata": {
    "deletable": false,
    "editable": false,
    "nbgrader": {
     "checksum": "f77c1f9d4759b71de45819ab122705fd",
     "grade": false,
     "grade_id": "cell-18aa0093e9bb5704",
     "locked": true,
     "schema_version": 1,
     "solution": false
    }
   },
   "source": [
    "***Remarque*** : Contrairement aux apparences, la chaine n'a pas été modifiée *puisque les chaines sont non mutables*, une nouvelle chaine a été crée par *concaténation* des deux chaines placées autour du signe ***+***"
   ]
  },
  {
   "cell_type": "markdown",
   "metadata": {
    "deletable": false,
    "editable": false,
    "nbgrader": {
     "checksum": "97cb6691c4bb54aa751bea5dd5dc1af6",
     "grade": false,
     "grade_id": "cell-2b30018f80c88f6f",
     "locked": true,
     "schema_version": 1,
     "solution": false
    }
   },
   "source": [
    "Il existe de nombreuses méthodes agissant sur les chaînes de caratères. Pour les voir, vous pouvez utiliser la fonction d'*autocompletion* de Jupyter en tapant dans une cellule de code \n",
    "\n",
    "    chaine. \n",
    "\n",
    "puis en pressant la touche *TAB*. N'oubliez pas le ***.*** !\n",
    "\n",
    "Vous devriez voir la liste des méthodes disponibles :\n",
    "\n",
    " . | .  | .  | .\n",
    ":-----------: | :----------:    |  :-----------: |  :-----------: \n",
    "x.capitalize | x.isalnum      |    x.join      |    x.rsplit \n",
    "x.casefold   |   x.isalpha     |  x.ljust        | x.rstrip \n",
    "x.center     |   x.isdecimal   |  x.lower       |  x.split\n",
    "x.count      |   x.isdigit     |  x.lstrip      |  x.splitlines\n",
    "x.encode     |   x.isidentifier|  x.maketrans   |  x.startswith\n",
    "x.endswith   |   x.islower     |  x.partition   |  x.strip\n",
    "x.expandtabs |   x.isnumeric   |  x.replace     |  x.swapcase\n",
    "x.find       |   x.isprintable |  x.rfind       |  x.title\n",
    "x.format     |   x.isspace     |  x.rindex      |  x.translate\n",
    "x.format_map |   x.istitle     |  x.rjust       |  x.upper\n",
    "x.index      |   x.isupper     |  x.rpartition  |  x.zfill\n"
   ]
  },
  {
   "cell_type": "code",
   "execution_count": null,
   "metadata": {},
   "outputs": [],
   "source": [
    "chaine."
   ]
  },
  {
   "cell_type": "markdown",
   "metadata": {
    "deletable": false,
    "editable": false,
    "nbgrader": {
     "checksum": "db56d810b3df0bf66602b3459c685829",
     "grade": false,
     "grade_id": "cell-363bb6d08a18c328",
     "locked": true,
     "schema_version": 1,
     "solution": false
    }
   },
   "source": [
    "Inutile de toutes les connaître. Nous allons voir ici les fonctions les plus utiles.\n",
    "\n",
    "## Couper et joindre\n",
    "\n",
    "La fonction ***split()*** permet de ***découper*** la chaîne de caractères qui lui est passée en paramètre suivant un ou des caractère(s) de séparation et renvoie une liste des chaînes découpées. Les caractères de séparation lui sont également passés en paramètre et, si ce n'est pas le cas, ce sera le caractère espace qui sera utilisé :"
   ]
  },
  {
   "cell_type": "code",
   "execution_count": null,
   "metadata": {
    "deletable": false,
    "editable": false,
    "nbgrader": {
     "checksum": "bcf6d130fad990e6d15cfee5b2c23e39",
     "grade": false,
     "grade_id": "cell-d369094d484e3283",
     "locked": true,
     "schema_version": 1,
     "solution": false
    }
   },
   "outputs": [],
   "source": [
    "chaine=\"Lycée Salvador Allende - Hérouville saint clair\"\n",
    "chaine.split()"
   ]
  },
  {
   "cell_type": "code",
   "execution_count": null,
   "metadata": {
    "deletable": false,
    "editable": false,
    "nbgrader": {
     "checksum": "f7bcd15ea1d1efc335e5ccd023759b13",
     "grade": false,
     "grade_id": "cell-2d0baa18900c412a",
     "locked": true,
     "schema_version": 1,
     "solution": false
    }
   },
   "outputs": [],
   "source": [
    "chaine.split('-')"
   ]
  },
  {
   "cell_type": "markdown",
   "metadata": {
    "deletable": false,
    "editable": false,
    "nbgrader": {
     "checksum": "0577a8951cc0e9f1b7f7e11c89bf7e99",
     "grade": false,
     "grade_id": "cell-78e9f82af0008167",
     "locked": true,
     "schema_version": 1,
     "solution": false
    }
   },
   "source": [
    "L'opération inverse s'appelle ***join()***. Elle consiste a rendre une liste de chaînes de caractères pour former une chaîne en concaténant tous les éléments et en les assemblant à l'aide d'un caractère.\n",
    "\n",
    "Cette méthode prend en paramètre une liste de caractères et s'applique à une chaîne de caractères désignant le ou les caractère(s) de liaison :"
   ]
  },
  {
   "cell_type": "code",
   "execution_count": null,
   "metadata": {
    "deletable": false,
    "editable": false,
    "nbgrader": {
     "checksum": "a87ddd3f49df2450842cc14707f22948",
     "grade": false,
     "grade_id": "cell-f1b8ca7d7b595510",
     "locked": true,
     "schema_version": 1,
     "solution": false
    }
   },
   "outputs": [],
   "source": [
    "liste = ['Lycée Salvador Allende', 'Hérouville saint clair']\n",
    "' - '.join(liste)"
   ]
  },
  {
   "cell_type": "markdown",
   "metadata": {
    "deletable": false,
    "editable": false,
    "nbgrader": {
     "checksum": "764d51de5b082bc9dc91d71722c8b8e3",
     "grade": false,
     "grade_id": "cell-5e1528015871b2d6",
     "locked": true,
     "schema_version": 1,
     "solution": false
    }
   },
   "source": [
    "## Majuscule et minuscule\n",
    "\n",
    "Deux autres méthodes standards peuvent être utiles:\n",
    "\n",
    "***lower()*** et ***upper()*** permettant respectivement de convertir les caractères d'une chaîne en minuscules ou en majuscules.  \n",
    "Attention, bien que parlant de *conversion*, ces méthodes ne modifient pas la chaîne de départ mais renvoient une nouvelle chaîne :"
   ]
  },
  {
   "cell_type": "code",
   "execution_count": null,
   "metadata": {
    "deletable": false,
    "editable": false,
    "nbgrader": {
     "checksum": "8584ab1c5c7e198187d1f84edf7e907d",
     "grade": false,
     "grade_id": "cell-d65ca77c587efe05",
     "locked": true,
     "schema_version": 1,
     "solution": false
    }
   },
   "outputs": [],
   "source": [
    "chaine.upper()"
   ]
  },
  {
   "cell_type": "code",
   "execution_count": null,
   "metadata": {
    "deletable": false,
    "editable": false,
    "nbgrader": {
     "checksum": "6645c20844bc2ceb4ce2f0d1efe5376c",
     "grade": false,
     "grade_id": "cell-21a5eb6899c4d545",
     "locked": true,
     "schema_version": 1,
     "solution": false
    }
   },
   "outputs": [],
   "source": [
    "chaine.lower()"
   ]
  },
  {
   "cell_type": "markdown",
   "metadata": {
    "deletable": false,
    "editable": false,
    "nbgrader": {
     "checksum": "d01dcb2d96db3651a40c127f752cb687",
     "grade": false,
     "grade_id": "cell-024728570ac9b499",
     "locked": true,
     "schema_version": 1,
     "solution": false
    }
   },
   "source": [
    "La fonction ***capitalize()*** permet de ne mettre en majuscule que la première lettre d'une chaîne :"
   ]
  },
  {
   "cell_type": "code",
   "execution_count": null,
   "metadata": {
    "deletable": false,
    "editable": false,
    "nbgrader": {
     "checksum": "1b5c000347bd255fcc91dcf1f256c85d",
     "grade": false,
     "grade_id": "cell-c45b88d23e2e960d",
     "locked": true,
     "schema_version": 1,
     "solution": false
    }
   },
   "outputs": [],
   "source": [
    "chaine.capitalize()"
   ]
  },
  {
   "cell_type": "markdown",
   "metadata": {
    "deletable": false,
    "editable": false,
    "nbgrader": {
     "checksum": "68d6dd09d2fa7fbf066b7c0bfe761f0e",
     "grade": false,
     "grade_id": "cell-969a8b5033a32e11",
     "locked": true,
     "schema_version": 1,
     "solution": false
    }
   },
   "source": [
    "## rechercher un caractère, une position etc... dans une chaîne.\n",
    "\n",
    "- La fonction ***len()*** permet, comme pour les listes, de connaîntre la longueur de la chaîne, c'est à dire compter le nombre de caractères."
   ]
  },
  {
   "cell_type": "code",
   "execution_count": null,
   "metadata": {
    "deletable": false,
    "editable": false,
    "nbgrader": {
     "checksum": "8fd219da4c99fe09843e13750bf8dddb",
     "grade": false,
     "grade_id": "cell-f6b10442a2a23c71",
     "locked": true,
     "schema_version": 1,
     "solution": false
    }
   },
   "outputs": [],
   "source": [
    "chaine = \"Lycée Salvador Allende\"\n",
    "len(chaine)"
   ]
  },
  {
   "cell_type": "markdown",
   "metadata": {
    "deletable": false,
    "editable": false,
    "nbgrader": {
     "checksum": "d2c1e19fffcc2c3416985a2d392e9baa",
     "grade": false,
     "grade_id": "cell-4868a74804540a55",
     "locked": true,
     "schema_version": 1,
     "solution": false
    }
   },
   "source": [
    "- La méthode ***count()*** permet de compter le nombre d'occurrences d'une sous chaîne dans une chaîne de caractères.   \n",
    "Le premier paramètre est la chaîne dans laquelle effectuer la recherche et le second paramètre est la sous chaîne :"
   ]
  },
  {
   "cell_type": "code",
   "execution_count": null,
   "metadata": {
    "deletable": false,
    "editable": false,
    "nbgrader": {
     "checksum": "13a3c534bae5e7b61acd5c1cf702581a",
     "grade": false,
     "grade_id": "cell-05fc3486882efb02",
     "locked": true,
     "schema_version": 1,
     "solution": false
    }
   },
   "outputs": [],
   "source": [
    "chaine.count('a')"
   ]
  },
  {
   "cell_type": "markdown",
   "metadata": {
    "deletable": false,
    "editable": false,
    "nbgrader": {
     "checksum": "1da785ae219c4f155bbfd5abb49ec888",
     "grade": false,
     "grade_id": "cell-0a7218794845426a",
     "locked": true,
     "schema_version": 1,
     "solution": false
    }
   },
   "source": [
    "- La méthode ***find()*** permet de trouver l'indice de la première occurrence d'une sous chaîne. Les paramètres sont les mêmes que pour la fonction ***count()***  \n",
    "En cas d'échec, ***find()*** renvoie la valeur -1 ( 0 correspond à l'indice du premier caractère):\n",
    "On utilisera ***rfind()*** pour la dernière ocurrence."
   ]
  },
  {
   "cell_type": "code",
   "execution_count": null,
   "metadata": {
    "deletable": false,
    "editable": false,
    "nbgrader": {
     "checksum": "ea434c650efcbe3bb0a36cb534ea10cd",
     "grade": false,
     "grade_id": "cell-242c7da406a6b7d2",
     "locked": true,
     "schema_version": 1,
     "solution": false
    }
   },
   "outputs": [],
   "source": [
    "chaine.find('a')"
   ]
  },
  {
   "cell_type": "code",
   "execution_count": null,
   "metadata": {
    "deletable": false,
    "editable": false,
    "nbgrader": {
     "checksum": "4044316dbb047a1ea22082fa73ccddf0",
     "grade": false,
     "grade_id": "cell-c1a795bd5f50f5af",
     "locked": true,
     "schema_version": 1,
     "solution": false
    }
   },
   "outputs": [],
   "source": [
    "chaine.find('b')"
   ]
  },
  {
   "cell_type": "code",
   "execution_count": null,
   "metadata": {
    "deletable": false,
    "editable": false,
    "nbgrader": {
     "checksum": "503eabecd2ebe9e31d03a718a41836ac",
     "grade": false,
     "grade_id": "cell-c1708e4efa2374ea",
     "locked": true,
     "schema_version": 1,
     "solution": false
    }
   },
   "outputs": [],
   "source": [
    "chaine.rfind('a')"
   ]
  },
  {
   "cell_type": "markdown",
   "metadata": {
    "deletable": false,
    "editable": false,
    "nbgrader": {
     "checksum": "dfda6a322244104b6abc7606f60c2635",
     "grade": false,
     "grade_id": "cell-5102e4c8a34ac6e8",
     "locked": true,
     "schema_version": 1,
     "solution": false
    }
   },
   "source": [
    "- index() est identique à find() mais retourne une erreur en cas d'échec"
   ]
  },
  {
   "cell_type": "code",
   "execution_count": null,
   "metadata": {
    "deletable": false,
    "editable": false,
    "nbgrader": {
     "checksum": "403d7600df2687f19236f1548d0abaaa",
     "grade": false,
     "grade_id": "cell-58b385d97090df00",
     "locked": true,
     "schema_version": 1,
     "solution": false
    }
   },
   "outputs": [],
   "source": [
    "chaine.index('a')"
   ]
  },
  {
   "cell_type": "code",
   "execution_count": null,
   "metadata": {
    "deletable": false,
    "editable": false,
    "nbgrader": {
     "checksum": "44e3b737813628994386990d7a243b45",
     "grade": false,
     "grade_id": "cell-3fb6abb05a3df9be",
     "locked": true,
     "schema_version": 1,
     "solution": false
    }
   },
   "outputs": [],
   "source": [
    "chaine.index('b')"
   ]
  },
  {
   "cell_type": "markdown",
   "metadata": {
    "deletable": false,
    "editable": false,
    "nbgrader": {
     "checksum": "9cef4f2b0237241cac9f19a1f25e9263",
     "grade": false,
     "grade_id": "cell-53b740f9d35fa7f5",
     "locked": true,
     "schema_version": 1,
     "solution": false
    }
   },
   "source": [
    "- La fonction ***replace()*** permet, comme son nom l'indique, de remplacer une sous chaîne par une autre à l'intérieur d'une chaîne de caractères.  \n",
    "Les paramètres sont, dans l'ordre : la chaîne de caractères à modifier, la sous chaîne à remplacer, la sous chaîne de remplacement,et, éventuellement, le nombre maximum d'occurrences à remplacer (si non spécifié, toutes les occurrences seront remplacées)."
   ]
  },
  {
   "cell_type": "code",
   "execution_count": null,
   "metadata": {
    "deletable": false,
    "editable": false,
    "nbgrader": {
     "checksum": "33e3aea102a898f13f1eaf2c18e4752b",
     "grade": false,
     "grade_id": "cell-a9ec8c50ec03d377",
     "locked": true,
     "schema_version": 1,
     "solution": false
    }
   },
   "outputs": [],
   "source": [
    "chaine.replace('a','@')"
   ]
  },
  {
   "cell_type": "markdown",
   "metadata": {
    "deletable": false,
    "editable": false,
    "nbgrader": {
     "checksum": "147e4aac44c66d6a3659952d2a5267fb",
     "grade": false,
     "grade_id": "cell-e03f07fdbd674c2f",
     "locked": true,
     "schema_version": 1,
     "solution": false
    }
   },
   "source": [
    "et bien sûr, la variable *chaine* n'est pas modifiée, c'est une nouvelle chaine qui est renvoyée par cette méthode !"
   ]
  },
  {
   "cell_type": "code",
   "execution_count": null,
   "metadata": {
    "deletable": false,
    "editable": false,
    "nbgrader": {
     "checksum": "3fffde151c56edca1fe42b28eb5951ae",
     "grade": false,
     "grade_id": "cell-1401daafe4722287",
     "locked": true,
     "schema_version": 1,
     "solution": false
    }
   },
   "outputs": [],
   "source": [
    "chaine"
   ]
  },
  {
   "cell_type": "markdown",
   "metadata": {
    "deletable": false,
    "editable": false,
    "nbgrader": {
     "checksum": "a6366e1d24f87fa58507d9fc88568b75",
     "grade": false,
     "grade_id": "cell-0a2359927c070ae3",
     "locked": true,
     "schema_version": 1,
     "solution": false
    }
   },
   "source": [
    "## Conversion chaîne <-> nombres\n",
    "\n",
    "Il ne faut pas confondre les objets 12 et \"12\". Le premier désigne un nombre, le second est une chaîne de caractère. Les comportements et les opérations sont différents."
   ]
  },
  {
   "cell_type": "code",
   "execution_count": null,
   "metadata": {
    "deletable": false,
    "editable": false,
    "nbgrader": {
     "checksum": "61f7fa7424767d975f133154b8265505",
     "grade": false,
     "grade_id": "cell-07260dabb5c68414",
     "locked": true,
     "schema_version": 1,
     "solution": false
    }
   },
   "outputs": [],
   "source": [
    "12 == \"12\""
   ]
  },
  {
   "cell_type": "code",
   "execution_count": null,
   "metadata": {
    "deletable": false,
    "editable": false,
    "nbgrader": {
     "checksum": "82218a26beea0180fe07d47ccdf8df2f",
     "grade": false,
     "grade_id": "cell-bfcacd8e68ffdf02",
     "locked": true,
     "schema_version": 1,
     "solution": false
    }
   },
   "outputs": [],
   "source": [
    "12+1"
   ]
  },
  {
   "cell_type": "code",
   "execution_count": null,
   "metadata": {
    "deletable": false,
    "editable": false,
    "nbgrader": {
     "checksum": "72425a6808761b253d89fe0866bf0d56",
     "grade": false,
     "grade_id": "cell-3533a484ab95faed",
     "locked": true,
     "schema_version": 1,
     "solution": false
    }
   },
   "outputs": [],
   "source": [
    "\"12\"+\"1\""
   ]
  },
  {
   "cell_type": "markdown",
   "metadata": {
    "deletable": false,
    "editable": false,
    "nbgrader": {
     "checksum": "7d790583e2371a747be61a9b27f44685",
     "grade": false,
     "grade_id": "cell-aa337f9fcd8c9bcb",
     "locked": true,
     "schema_version": 1,
     "solution": false
    }
   },
   "source": [
    "Il peut être néanmoins possible de convertir un nombre en chaîne et réciproquement comme on va le voir sur les exemples ci-dessous"
   ]
  },
  {
   "cell_type": "code",
   "execution_count": null,
   "metadata": {
    "deletable": false,
    "editable": false,
    "nbgrader": {
     "checksum": "3cf6951bc7f82b3138aac5ed50448107",
     "grade": false,
     "grade_id": "cell-803fcaeb67e810e0",
     "locked": true,
     "schema_version": 1,
     "solution": false
    }
   },
   "outputs": [],
   "source": [
    "int(\"12\")"
   ]
  },
  {
   "cell_type": "code",
   "execution_count": null,
   "metadata": {
    "deletable": false,
    "editable": false,
    "nbgrader": {
     "checksum": "d409da5e7137a3de6c13ae1db89571d1",
     "grade": false,
     "grade_id": "cell-d1d53b0512568ab3",
     "locked": true,
     "schema_version": 1,
     "solution": false
    }
   },
   "outputs": [],
   "source": [
    "str(12)"
   ]
  },
  {
   "cell_type": "markdown",
   "metadata": {
    "deletable": false,
    "editable": false,
    "nbgrader": {
     "checksum": "399cf204f54116099a8ea3c1593e8c12",
     "grade": false,
     "grade_id": "cell-3f5b8c015ec5d516",
     "locked": true,
     "schema_version": 1,
     "solution": false
    }
   },
   "source": [
    "## Comparaison de chaînes de caractères\n",
    "De même qu'il est possible de comparer deux nombres, on peut aussi comparer des chaines par rapport à l'ordre lexicographique :"
   ]
  },
  {
   "cell_type": "code",
   "execution_count": null,
   "metadata": {
    "deletable": false,
    "editable": false,
    "nbgrader": {
     "checksum": "f07273dcf875fa8192b66aba74727bb6",
     "grade": false,
     "grade_id": "cell-249273182663e283",
     "locked": true,
     "schema_version": 1,
     "solution": false
    }
   },
   "outputs": [],
   "source": [
    "\"a\"<\"b\""
   ]
  },
  {
   "cell_type": "code",
   "execution_count": null,
   "metadata": {
    "deletable": false,
    "editable": false,
    "nbgrader": {
     "checksum": "d3fa4f0586257254716405128a5f41b3",
     "grade": false,
     "grade_id": "cell-02f91cff8cb53f48",
     "locked": true,
     "schema_version": 1,
     "solution": false
    }
   },
   "outputs": [],
   "source": [
    "\"a\"<=\"r\"<=\"z\""
   ]
  },
  {
   "cell_type": "code",
   "execution_count": null,
   "metadata": {
    "deletable": false,
    "editable": false,
    "nbgrader": {
     "checksum": "e78e1753c399da87c29de72fdb71e172",
     "grade": false,
     "grade_id": "cell-f1513e2e054c2a43",
     "locked": true,
     "schema_version": 1,
     "solution": false
    }
   },
   "outputs": [],
   "source": [
    "\"a\"<=\"R\"<=\"z\""
   ]
  },
  {
   "cell_type": "code",
   "execution_count": null,
   "metadata": {
    "deletable": false,
    "editable": false,
    "nbgrader": {
     "checksum": "fc6e40d79886e983448052a9ed2915b4",
     "grade": false,
     "grade_id": "cell-6a402f5e6fe6c252",
     "locked": true,
     "schema_version": 1,
     "solution": false
    }
   },
   "outputs": [],
   "source": [
    "\"toto\"<\"titi\""
   ]
  },
  {
   "cell_type": "markdown",
   "metadata": {
    "deletable": false,
    "editable": false,
    "nbgrader": {
     "checksum": "cd69d7783c19ae8a4348d4359cbeb43b",
     "grade": false,
     "grade_id": "cell-b66848319e06bad7",
     "locked": true,
     "schema_version": 1,
     "solution": false
    }
   },
   "source": [
    "## Tranches de chaînes\n",
    "\n",
    "Le tranchage (*slicing*) fonctionne exactement comme pour les listes. Observez les exemples suivants."
   ]
  },
  {
   "cell_type": "code",
   "execution_count": null,
   "metadata": {
    "deletable": false,
    "editable": false,
    "nbgrader": {
     "checksum": "da41d0e4ef63e3114e782dfbab2c4171",
     "grade": false,
     "grade_id": "cell-49bddc8996c68156",
     "locked": true,
     "schema_version": 1,
     "solution": false
    }
   },
   "outputs": [],
   "source": [
    "chaine = \"Lycée Salvador Allende\"\n",
    "# obtenir la fin d'une chaîne\n",
    "chaine[6:]"
   ]
  },
  {
   "cell_type": "code",
   "execution_count": null,
   "metadata": {
    "deletable": false,
    "editable": false,
    "nbgrader": {
     "checksum": "e864adce92c8ae51a3b234ba0f5ac521",
     "grade": false,
     "grade_id": "cell-5523b816169ee333",
     "locked": true,
     "schema_version": 1,
     "solution": false
    }
   },
   "outputs": [],
   "source": [
    "# obtenir le début d'une chaîne\n",
    "chaine[:5]"
   ]
  },
  {
   "cell_type": "code",
   "execution_count": null,
   "metadata": {
    "deletable": false,
    "editable": false,
    "nbgrader": {
     "checksum": "fc04c0fd1e67a44b34b195f7cb2d3e91",
     "grade": false,
     "grade_id": "cell-bc4d313ef3d5d533",
     "locked": true,
     "schema_version": 1,
     "solution": false
    }
   },
   "outputs": [],
   "source": [
    "# Un intervalle\n",
    "chaine[6:14]"
   ]
  },
  {
   "cell_type": "markdown",
   "metadata": {
    "deletable": false,
    "editable": false,
    "nbgrader": {
     "checksum": "eb2d6a38ff04f76a480684f8071e3f86",
     "grade": false,
     "grade_id": "cell-01cca1fdbbc660cb",
     "locked": true,
     "schema_version": 1,
     "solution": false
    }
   },
   "source": [
    "Et avec des index négatifs ..."
   ]
  },
  {
   "cell_type": "code",
   "execution_count": null,
   "metadata": {
    "deletable": false,
    "editable": false,
    "nbgrader": {
     "checksum": "118082d4dc13ad0294649ded56f70637",
     "grade": false,
     "grade_id": "cell-95346bdd24f6c78f",
     "locked": true,
     "schema_version": 1,
     "solution": false
    }
   },
   "outputs": [],
   "source": [
    "chaine[-1]"
   ]
  },
  {
   "cell_type": "code",
   "execution_count": null,
   "metadata": {
    "deletable": false,
    "editable": false,
    "nbgrader": {
     "checksum": "73e2b270da338838b2ef766fc310c848",
     "grade": false,
     "grade_id": "cell-baeda9a9e7cec72e",
     "locked": true,
     "schema_version": 1,
     "solution": false
    }
   },
   "outputs": [],
   "source": [
    "chaine[:-1]"
   ]
  },
  {
   "cell_type": "code",
   "execution_count": null,
   "metadata": {
    "deletable": false,
    "editable": false,
    "nbgrader": {
     "checksum": "4e663b94a32e29109d762fd7727aebf4",
     "grade": false,
     "grade_id": "cell-586f6c2c0e045a77",
     "locked": true,
     "schema_version": 1,
     "solution": false
    }
   },
   "outputs": [],
   "source": [
    "# ce dernier exemple est très pratique pour renverser un itérable\n",
    "chaine[::-1]"
   ]
  },
  {
   "cell_type": "markdown",
   "metadata": {
    "deletable": false,
    "editable": false,
    "nbgrader": {
     "checksum": "6f4611b5375f15b1599dadef5066f4c2",
     "grade": false,
     "grade_id": "cell-13b83ac0809080fb",
     "locked": true,
     "schema_version": 1,
     "solution": false
    }
   },
   "source": [
    "## Parcourir une chaîne de caractères\n",
    "\n",
    "Une chaîne de raractère en Python rentre dans la catégorie des *itérables* au même titre que les listes. On retrouve donc les deux modes de parcours déjà rencontrés sur les listes, à savoir :"
   ]
  },
  {
   "cell_type": "code",
   "execution_count": null,
   "metadata": {
    "deletable": false,
    "editable": false,
    "nbgrader": {
     "checksum": "598c159c8a1fb9e75b6e0e150a2bfef5",
     "grade": false,
     "grade_id": "cell-73423ef5d70a70f2",
     "locked": true,
     "schema_version": 1,
     "solution": false
    }
   },
   "outputs": [],
   "source": [
    "# Le parcours caractères par caractères :\n",
    "chaine = \"ISN\"\n",
    "for c in chaine:\n",
    "    print(c)"
   ]
  },
  {
   "cell_type": "code",
   "execution_count": null,
   "metadata": {
    "deletable": false,
    "editable": false,
    "nbgrader": {
     "checksum": "662dd0426ef8ddf1ca861c3f9c14024a",
     "grade": false,
     "grade_id": "cell-502128e2ec19631c",
     "locked": true,
     "schema_version": 1,
     "solution": false
    }
   },
   "outputs": [],
   "source": [
    "# Le parcours par indice\n",
    "chaine = \"ISN\"\n",
    "for i in range(len(chaine)):\n",
    "    print(chaine[i])"
   ]
  },
  {
   "cell_type": "markdown",
   "metadata": {
    "deletable": false,
    "editable": false,
    "nbgrader": {
     "checksum": "791eccbef44023127a960a4e288000f6",
     "grade": false,
     "grade_id": "cell-a6d5ca4244decf3b",
     "locked": true,
     "schema_version": 1,
     "solution": false
    }
   },
   "source": [
    "## Mise en pratique\n",
    "\n",
    "### Exercice 1\n",
    "Écrire une fonction **nb_chiffres** qui prend en paramètre une chaîne de caractère et qui renvoie le nombre de chiffres contenus dans la chaîne"
   ]
  },
  {
   "cell_type": "code",
   "execution_count": null,
   "metadata": {
    "deletable": false,
    "nbgrader": {
     "checksum": "5e4908e2bfc786a64fa5bcfbb0bb7282",
     "grade": false,
     "grade_id": "cell-78fec91508b468a9",
     "locked": false,
     "schema_version": 1,
     "solution": true
    }
   },
   "outputs": [],
   "source": [
    "def nb_chiffres(chaine):\n",
    "    # YOUR CODE HERE\n",
    "    raise NotImplementedError()"
   ]
  },
  {
   "cell_type": "code",
   "execution_count": null,
   "metadata": {
    "deletable": false,
    "editable": false,
    "nbgrader": {
     "checksum": "ba5eb94a75226584c0dd126210ae8fe8",
     "grade": true,
     "grade_id": "cell-bf248621e2a1e819",
     "locked": true,
     "points": 1,
     "schema_version": 1,
     "solution": false
    }
   },
   "outputs": [],
   "source": [
    "chaine = \"Lycée Allende - 14200 Hérouville\"\n",
    "assert nb_chiffres(chaine)==5"
   ]
  },
  {
   "cell_type": "markdown",
   "metadata": {
    "deletable": false,
    "editable": false,
    "nbgrader": {
     "checksum": "bacbc8cbecd618cd07814e47e41895e2",
     "grade": false,
     "grade_id": "cell-4547881d3feb4568",
     "locked": true,
     "schema_version": 1,
     "solution": false
    }
   },
   "source": [
    "### Exercice 2\n",
    "Écrire une fonction **is_email** qui prend en paramètre une chaîne de caractère et renvoie True si celle-ci est une adresse mail. On va simplifier en considérant qu'on a une adresse email si la chaîne possède les 2 propriétés suivantes : \n",
    "- Un seul caractère @\n",
    "- Un seul caractère .(point) après @.\n"
   ]
  },
  {
   "cell_type": "code",
   "execution_count": null,
   "metadata": {
    "deletable": false,
    "nbgrader": {
     "checksum": "122f53142c6ba4d7d0c9ff805c39d11a",
     "grade": false,
     "grade_id": "cell-155cf2211f8dc865",
     "locked": false,
     "schema_version": 1,
     "solution": true
    }
   },
   "outputs": [],
   "source": [
    "def is_email(chaine):\n",
    "    # YOUR CODE HERE\n",
    "    raise NotImplementedError()"
   ]
  },
  {
   "cell_type": "code",
   "execution_count": null,
   "metadata": {
    "deletable": false,
    "editable": false,
    "nbgrader": {
     "checksum": "8f623a2d45befec7ca9571fe8cd40707",
     "grade": true,
     "grade_id": "cell-c3e027e42ccabeb4",
     "locked": true,
     "points": 1,
     "schema_version": 1,
     "solution": false
    }
   },
   "outputs": [],
   "source": [
    "assert is_email(\"olivier.lecluse@monfai.com\")\n",
    "assert not is_email(\"olivier.lecluse_AT_monfai.com\")\n",
    "assert not is_email(\"olivier.lecluse@monfai\")"
   ]
  },
  {
   "cell_type": "markdown",
   "metadata": {
    "deletable": false,
    "editable": false,
    "nbgrader": {
     "checksum": "4a0fb8bd21768fa6fd9e81a4551d5085",
     "grade": false,
     "grade_id": "cell-887372193b00d4be",
     "locked": true,
     "schema_version": 1,
     "solution": false
    }
   },
   "source": [
    "### Exercice 3\n",
    "\n",
    "Un nombre est un palindrome s'il s'écrit de la même manière de gauche à droite ou de droite à gauche. Exemple : 12521.\n",
    "\n",
    "Ecrire une fonction **est_palindrome** prenant en paramètre un nombre et renvoyant ***True*** ou ***False*** selon que c'est un palindrom ou non."
   ]
  },
  {
   "cell_type": "code",
   "execution_count": null,
   "metadata": {
    "deletable": false,
    "nbgrader": {
     "checksum": "e6d1ad88b1d75fa3e4de7afaf65ce242",
     "grade": false,
     "grade_id": "cell-e5ef8ae434c12e26",
     "locked": false,
     "schema_version": 1,
     "solution": true
    }
   },
   "outputs": [],
   "source": [
    "def est_palindrome(n):\n",
    "    # YOUR CODE HERE\n",
    "    raise NotImplementedError()"
   ]
  },
  {
   "cell_type": "code",
   "execution_count": null,
   "metadata": {
    "deletable": false,
    "editable": false,
    "nbgrader": {
     "checksum": "8faec7c3f36c0c18843a5f3abdbd0e7b",
     "grade": true,
     "grade_id": "cell-75ce8d9f2485fbd3",
     "locked": true,
     "points": 1,
     "schema_version": 1,
     "solution": false
    }
   },
   "outputs": [],
   "source": [
    "assert est_palindrome(12521)\n",
    "assert not est_palindrome(12520)"
   ]
  },
  {
   "cell_type": "markdown",
   "metadata": {
    "deletable": false,
    "editable": false,
    "nbgrader": {
     "checksum": "3ad1ac3426c46eef4caafedfdf179f0a",
     "grade": false,
     "grade_id": "cell-5a9cf1f2d59eba83",
     "locked": true,
     "schema_version": 1,
     "solution": false
    }
   },
   "source": [
    "### Exercice 4\n",
    "\n",
    "Ecrire une fonction **somme_chiffres** prenant un entier en paramètre et renvoyant la somme des chiffres de ce nombre.\n",
    "\n",
    "somme_chiffres(125) renvoie 8 puisque 1+2+5=8"
   ]
  },
  {
   "cell_type": "code",
   "execution_count": null,
   "metadata": {
    "deletable": false,
    "nbgrader": {
     "checksum": "75a8a6e20d53db81fb6642ffac123d5c",
     "grade": false,
     "grade_id": "cell-027f91c66f836031",
     "locked": false,
     "schema_version": 1,
     "solution": true
    }
   },
   "outputs": [],
   "source": [
    "def somme_chiffres(n):\n",
    "    # YOUR CODE HERE\n",
    "    raise NotImplementedError()"
   ]
  },
  {
   "cell_type": "code",
   "execution_count": null,
   "metadata": {
    "deletable": false,
    "editable": false,
    "nbgrader": {
     "checksum": "eb1f934a76f65c97c5dabf9cfb57b2a4",
     "grade": true,
     "grade_id": "cell-69da341446836bdb",
     "locked": true,
     "points": 1,
     "schema_version": 1,
     "solution": false
    }
   },
   "outputs": [],
   "source": [
    "assert somme_chiffres(125)==8"
   ]
  },
  {
   "cell_type": "code",
   "execution_count": null,
   "metadata": {},
   "outputs": [],
   "source": []
  }
 ],
 "metadata": {
  "kernelspec": {
   "display_name": "Python 3",
   "language": "python",
   "name": "python3"
  },
  "language_info": {
   "codemirror_mode": {
    "name": "ipython",
    "version": 3
   },
   "file_extension": ".py",
   "mimetype": "text/x-python",
   "name": "python",
   "nbconvert_exporter": "python",
   "pygments_lexer": "ipython3",
   "version": "3.6.7"
  }
 },
 "nbformat": 4,
 "nbformat_minor": 2
}
